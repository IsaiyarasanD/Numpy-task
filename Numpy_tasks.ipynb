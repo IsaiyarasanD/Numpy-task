{
  "cells": [
    {
      "cell_type": "markdown",
      "metadata": {
        "id": "view-in-github",
        "colab_type": "text"
      },
      "source": [
        "<a href=\"https://colab.research.google.com/github/IsaiyarasanD/Numpy-task/blob/numpy-task-100-ques/Numpy_tasks.ipynb\" target=\"_parent\"><img src=\"https://colab.research.google.com/assets/colab-badge.svg\" alt=\"Open In Colab\"/></a>"
      ]
    },
    {
      "cell_type": "markdown",
      "metadata": {
        "id": "KlgnhYkkMc0v"
      },
      "source": [
        "# Numpy\n",
        "\n"
      ]
    },
    {
      "cell_type": "markdown",
      "metadata": {
        "id": "KWztGpsIMc00"
      },
      "source": [
        "#### 1. Import the numpy package under the name `np` (★☆☆) \n",
        "(**hint**: import … as …)"
      ]
    },
    {
      "cell_type": "code",
      "execution_count": null,
      "metadata": {
        "collapsed": true,
        "id": "goA-LTv-Mc02"
      },
      "outputs": [],
      "source": [
        "import numpy as np"
      ]
    },
    {
      "cell_type": "markdown",
      "metadata": {
        "id": "t7XZA_LSMc03"
      },
      "source": [
        "#### 2. Print the numpy version and the configuration (★☆☆) \n",
        "(**hint**: np.\\_\\_version\\_\\_, np.show\\_config)"
      ]
    },
    {
      "cell_type": "code",
      "execution_count": null,
      "metadata": {
        "colab": {
          "base_uri": "https://localhost:8080/"
        },
        "id": "EJU_YYdhMc1U",
        "outputId": "7a5986e4-a794-441d-d2d7-71cbf7de4b49"
      },
      "outputs": [
        {
          "output_type": "stream",
          "name": "stdout",
          "text": [
            "1.21.6\n",
            "blas_mkl_info:\n",
            "  NOT AVAILABLE\n",
            "blis_info:\n",
            "  NOT AVAILABLE\n",
            "openblas_info:\n",
            "    libraries = ['openblas', 'openblas']\n",
            "    library_dirs = ['/usr/local/lib']\n",
            "    language = c\n",
            "    define_macros = [('HAVE_CBLAS', None)]\n",
            "    runtime_library_dirs = ['/usr/local/lib']\n",
            "blas_opt_info:\n",
            "    libraries = ['openblas', 'openblas']\n",
            "    library_dirs = ['/usr/local/lib']\n",
            "    language = c\n",
            "    define_macros = [('HAVE_CBLAS', None)]\n",
            "    runtime_library_dirs = ['/usr/local/lib']\n",
            "lapack_mkl_info:\n",
            "  NOT AVAILABLE\n",
            "openblas_lapack_info:\n",
            "    libraries = ['openblas', 'openblas']\n",
            "    library_dirs = ['/usr/local/lib']\n",
            "    language = c\n",
            "    define_macros = [('HAVE_CBLAS', None)]\n",
            "    runtime_library_dirs = ['/usr/local/lib']\n",
            "lapack_opt_info:\n",
            "    libraries = ['openblas', 'openblas']\n",
            "    library_dirs = ['/usr/local/lib']\n",
            "    language = c\n",
            "    define_macros = [('HAVE_CBLAS', None)]\n",
            "    runtime_library_dirs = ['/usr/local/lib']\n",
            "Supported SIMD extensions in this NumPy install:\n",
            "    baseline = SSE,SSE2,SSE3\n",
            "    found = SSSE3,SSE41,POPCNT,SSE42,AVX,F16C,FMA3,AVX2\n",
            "    not found = AVX512F,AVX512CD,AVX512_KNL,AVX512_KNM,AVX512_SKX,AVX512_CLX,AVX512_CNL,AVX512_ICL\n"
          ]
        }
      ],
      "source": [
        "print(np.__version__)\n",
        "np.show_config\n",
        "np.__config__.show()"
      ]
    },
    {
      "cell_type": "markdown",
      "metadata": {
        "id": "GBBFrB0PMc1V"
      },
      "source": [
        "#### 3. Create a null vector of size 10 (★☆☆) \n",
        "(**hint**: np.zeros)"
      ]
    },
    {
      "cell_type": "code",
      "execution_count": null,
      "metadata": {
        "colab": {
          "base_uri": "https://localhost:8080/"
        },
        "id": "cWpUmUpbMc1X",
        "outputId": "433660c5-6403-4bb2-c216-1f17b23b30c3"
      },
      "outputs": [
        {
          "output_type": "execute_result",
          "data": {
            "text/plain": [
              "array([0., 0., 0., 0., 0., 0., 0., 0., 0., 0.])"
            ]
          },
          "metadata": {},
          "execution_count": 7
        }
      ],
      "source": [
        "x=np.zeros(10)\n",
        "x"
      ]
    },
    {
      "cell_type": "markdown",
      "metadata": {
        "id": "TTdWqOaXMc1Z"
      },
      "source": [
        "#### 4.  How to find the memory size of any array (★☆☆) \n",
        "(**hint**: size, itemsize)"
      ]
    },
    {
      "cell_type": "code",
      "execution_count": null,
      "metadata": {
        "colab": {
          "base_uri": "https://localhost:8080/"
        },
        "id": "YCWmdKcvMc1a",
        "outputId": "23a778cc-dc76-46a1-c184-547ba30fe3c9"
      },
      "outputs": [
        {
          "output_type": "stream",
          "name": "stdout",
          "text": [
            "2\n",
            "8\n"
          ]
        }
      ],
      "source": [
        "x= np.array([1,101])\n",
        "print(x.size)\n",
        "print(x.itemsize)"
      ]
    },
    {
      "cell_type": "markdown",
      "metadata": {
        "id": "dvvICuonMc1c"
      },
      "source": [
        "#### 5.  How to get the documentation of the numpy add function from the command line? (★☆☆) \n",
        "(**hint**: np.info)"
      ]
    },
    {
      "cell_type": "code",
      "execution_count": null,
      "metadata": {
        "colab": {
          "base_uri": "https://localhost:8080/"
        },
        "id": "-WCFklktMc1d",
        "outputId": "ce419bc9-877b-41e9-faac-bb0a53f0271f"
      },
      "outputs": [
        {
          "output_type": "stream",
          "name": "stdout",
          "text": [
            "add(x1, x2, /, out=None, *, where=True, casting='same_kind', order='K', dtype=None, subok=True[, signature, extobj])\n",
            "\n",
            "Add arguments element-wise.\n",
            "\n",
            "Parameters\n",
            "----------\n",
            "x1, x2 : array_like\n",
            "    The arrays to be added.\n",
            "    If ``x1.shape != x2.shape``, they must be broadcastable to a common\n",
            "    shape (which becomes the shape of the output).\n",
            "out : ndarray, None, or tuple of ndarray and None, optional\n",
            "    A location into which the result is stored. If provided, it must have\n",
            "    a shape that the inputs broadcast to. If not provided or None,\n",
            "    a freshly-allocated array is returned. A tuple (possible only as a\n",
            "    keyword argument) must have length equal to the number of outputs.\n",
            "where : array_like, optional\n",
            "    This condition is broadcast over the input. At locations where the\n",
            "    condition is True, the `out` array will be set to the ufunc result.\n",
            "    Elsewhere, the `out` array will retain its original value.\n",
            "    Note that if an uninitialized `out` array is created via the default\n",
            "    ``out=None``, locations within it where the condition is False will\n",
            "    remain uninitialized.\n",
            "**kwargs\n",
            "    For other keyword-only arguments, see the\n",
            "    :ref:`ufunc docs <ufuncs.kwargs>`.\n",
            "\n",
            "Returns\n",
            "-------\n",
            "add : ndarray or scalar\n",
            "    The sum of `x1` and `x2`, element-wise.\n",
            "    This is a scalar if both `x1` and `x2` are scalars.\n",
            "\n",
            "Notes\n",
            "-----\n",
            "Equivalent to `x1` + `x2` in terms of array broadcasting.\n",
            "\n",
            "Examples\n",
            "--------\n",
            ">>> np.add(1.0, 4.0)\n",
            "5.0\n",
            ">>> x1 = np.arange(9.0).reshape((3, 3))\n",
            ">>> x2 = np.arange(3.0)\n",
            ">>> np.add(x1, x2)\n",
            "array([[  0.,   2.,   4.],\n",
            "       [  3.,   5.,   7.],\n",
            "       [  6.,   8.,  10.]])\n",
            "\n",
            "The ``+`` operator can be used as a shorthand for ``np.add`` on ndarrays.\n",
            "\n",
            ">>> x1 = np.arange(9.0).reshape((3, 3))\n",
            ">>> x2 = np.arange(3.0)\n",
            ">>> x1 + x2\n",
            "array([[ 0.,  2.,  4.],\n",
            "       [ 3.,  5.,  7.],\n",
            "       [ 6.,  8., 10.]])\n",
            "None\n"
          ]
        }
      ],
      "source": [
        "print(np.info(np.add))"
      ]
    },
    {
      "cell_type": "markdown",
      "metadata": {
        "id": "nyf-BLOWMc1d"
      },
      "source": [
        "#### 6.  Create a null vector of size 10 but the fifth value which is 1 (★☆☆) \n",
        "(**hint**: array\\[4\\])"
      ]
    },
    {
      "cell_type": "code",
      "execution_count": null,
      "metadata": {
        "colab": {
          "base_uri": "https://localhost:8080/"
        },
        "id": "ABr6XV5eMc1e",
        "outputId": "4e02c186-c523-4299-d155-a0d715328506"
      },
      "outputs": [
        {
          "output_type": "stream",
          "name": "stdout",
          "text": [
            "[0. 0. 0. 0. 1. 0. 0. 0. 0. 0.]\n"
          ]
        }
      ],
      "source": [
        "x=np.zeros(10)\n",
        "x[4]=1\n",
        "print(x)"
      ]
    },
    {
      "cell_type": "markdown",
      "metadata": {
        "id": "wyPLZOxNMc1f"
      },
      "source": [
        "#### 7.  Create a vector with values ranging from 10 to 49 (★☆☆) \n",
        "(**hint**: np.arange)"
      ]
    },
    {
      "cell_type": "code",
      "execution_count": null,
      "metadata": {
        "colab": {
          "base_uri": "https://localhost:8080/"
        },
        "id": "8LnysWw_Mc1g",
        "outputId": "d604462f-df95-4fa3-e813-9057a45d8ba2"
      },
      "outputs": [
        {
          "output_type": "execute_result",
          "data": {
            "text/plain": [
              "array([10, 11, 12, 13, 14, 15, 16, 17, 18, 19, 20, 21, 22, 23, 24, 25, 26,\n",
              "       27, 28, 29, 30, 31, 32, 33, 34, 35, 36, 37, 38, 39, 40, 41, 42, 43,\n",
              "       44, 45, 46, 47, 48, 49])"
            ]
          },
          "metadata": {},
          "execution_count": 10
        }
      ],
      "source": [
        "x= np.arange(10,50)\n",
        "x"
      ]
    },
    {
      "cell_type": "markdown",
      "metadata": {
        "id": "cAfPF39hMc1h"
      },
      "source": [
        "#### 8.  Reverse a vector (first element becomes last) (★☆☆) \n",
        "(**hint**: array\\[::-1\\])"
      ]
    },
    {
      "cell_type": "code",
      "execution_count": null,
      "metadata": {
        "colab": {
          "base_uri": "https://localhost:8080/"
        },
        "id": "6Qi-JKdNMc1i",
        "outputId": "0dabdf5b-d624-4cac-bab3-5a7c508b50a6"
      },
      "outputs": [
        {
          "output_type": "execute_result",
          "data": {
            "text/plain": [
              "array([49, 48, 47, 46, 45, 44, 43, 42, 41, 40, 39, 38, 37, 36, 35, 34, 33,\n",
              "       32, 31, 30, 29, 28, 27, 26, 25, 24, 23, 22, 21, 20, 19, 18, 17, 16,\n",
              "       15, 14, 13, 12, 11, 10])"
            ]
          },
          "metadata": {},
          "execution_count": 11
        }
      ],
      "source": [
        "x[::-1]"
      ]
    },
    {
      "cell_type": "markdown",
      "metadata": {
        "id": "C0ONO4UdMc1i"
      },
      "source": [
        "#### 9.  Create a 3x3 matrix with values ranging from 0 to 8 (★☆☆) \n",
        "(**hint**: reshape)"
      ]
    },
    {
      "cell_type": "code",
      "execution_count": null,
      "metadata": {
        "colab": {
          "base_uri": "https://localhost:8080/"
        },
        "id": "mVQsANgDMc1j",
        "outputId": "c6c658e9-58cf-4ece-efe4-4285f5781fd9"
      },
      "outputs": [
        {
          "output_type": "execute_result",
          "data": {
            "text/plain": [
              "array([[0, 1, 2],\n",
              "       [3, 4, 5],\n",
              "       [6, 7, 8]])"
            ]
          },
          "metadata": {},
          "execution_count": 17
        }
      ],
      "source": [
        "x= np.arange(0,9).reshape(3,3)\n",
        "x"
      ]
    },
    {
      "cell_type": "markdown",
      "metadata": {
        "id": "Vcwzk-2UMc1j"
      },
      "source": [
        "#### 10. Find indices of non-zero elements from \\[1,2,0,0,4,0\\] (★☆☆) \n",
        "(**hint**: np.nonzero)"
      ]
    },
    {
      "cell_type": "code",
      "execution_count": null,
      "metadata": {
        "colab": {
          "base_uri": "https://localhost:8080/"
        },
        "id": "WqsOWbs-Mc1j",
        "outputId": "33b26918-7a5a-4ff8-c558-20057dec3a9d"
      },
      "outputs": [
        {
          "output_type": "execute_result",
          "data": {
            "text/plain": [
              "(array([0, 1, 4]),)"
            ]
          },
          "metadata": {},
          "execution_count": 18
        }
      ],
      "source": [
        "x=[1,2,0,0,4,0]\n",
        "y=np.nonzero(x)\n",
        "y"
      ]
    },
    {
      "cell_type": "markdown",
      "metadata": {
        "id": "nCynSlKMMc1k"
      },
      "source": [
        "#### 11. Create a 3x3 identity matrix (★☆☆) \n",
        "(**hint**: np.eye)"
      ]
    },
    {
      "cell_type": "code",
      "execution_count": null,
      "metadata": {
        "colab": {
          "base_uri": "https://localhost:8080/"
        },
        "id": "u3X02D1CMc1k",
        "outputId": "79de8007-4d43-41cb-bdfa-92a54e4c8f05"
      },
      "outputs": [
        {
          "output_type": "execute_result",
          "data": {
            "text/plain": [
              "array([[1., 0., 0.],\n",
              "       [0., 1., 0.],\n",
              "       [0., 0., 1.]])"
            ]
          },
          "metadata": {},
          "execution_count": 19
        }
      ],
      "source": [
        "x= np.eye(3,3)\n",
        "x"
      ]
    },
    {
      "cell_type": "markdown",
      "metadata": {
        "id": "mD68iGrGMc1k"
      },
      "source": [
        "#### 12. Create a 3x3x3 array with random values (★☆☆) \n",
        "(**hint**: np.random.random)"
      ]
    },
    {
      "cell_type": "code",
      "execution_count": null,
      "metadata": {
        "colab": {
          "base_uri": "https://localhost:8080/"
        },
        "id": "YCMg5z0_Mc1k",
        "outputId": "c73c0795-dae9-4d43-b76d-34f540879f8b"
      },
      "outputs": [
        {
          "output_type": "execute_result",
          "data": {
            "text/plain": [
              "array([[[0.64409572, 0.91944217, 0.26406965],\n",
              "        [0.21045338, 0.97863845, 0.28668085],\n",
              "        [0.96909809, 0.18170882, 0.23130027]],\n",
              "\n",
              "       [[0.03265798, 0.34370106, 0.6483521 ],\n",
              "        [0.07189205, 0.54298385, 0.08345183],\n",
              "        [0.54096212, 0.43735257, 0.6597515 ]],\n",
              "\n",
              "       [[0.46385102, 0.41398396, 0.03634119],\n",
              "        [0.56047887, 0.28549864, 0.42033155],\n",
              "        [0.55249585, 0.89872909, 0.93994108]]])"
            ]
          },
          "metadata": {},
          "execution_count": 20
        }
      ],
      "source": [
        "x = np.random.random((3,3,3))\n",
        "x"
      ]
    },
    {
      "cell_type": "markdown",
      "metadata": {
        "id": "qBaMM3SGMc1k"
      },
      "source": [
        "#### 13. Create a 10x10 array with random values and find the minimum and maximum values (★☆☆) \n",
        "(**hint**: min, max)"
      ]
    },
    {
      "cell_type": "code",
      "execution_count": null,
      "metadata": {
        "colab": {
          "base_uri": "https://localhost:8080/"
        },
        "id": "tPe2EcmwMc1l",
        "outputId": "29641ffc-cf25-4b12-8f63-959527b05b39"
      },
      "outputs": [
        {
          "output_type": "stream",
          "name": "stdout",
          "text": [
            "[[0.3724933  0.20956081 0.43270546 0.7111605  0.32034305 0.20060804\n",
            "  0.76878308 0.63275777 0.09319952 0.52856504]\n",
            " [0.01040224 0.58225016 0.03286354 0.74747298 0.06006715 0.06031135\n",
            "  0.74162832 0.67044431 0.91798933 0.26488931]\n",
            " [0.05886044 0.10775483 0.30172547 0.16803948 0.89273564 0.91275636\n",
            "  0.21292811 0.77104611 0.08595585 0.67205764]\n",
            " [0.22818448 0.84471357 0.76287903 0.65542991 0.37649858 0.80922306\n",
            "  0.3067629  0.96273941 0.7324336  0.01633754]\n",
            " [0.76095256 0.14649772 0.09338266 0.34625094 0.55108023 0.88537508\n",
            "  0.99931629 0.44908528 0.74001578 0.887001  ]\n",
            " [0.27345977 0.72650762 0.00930391 0.89628767 0.44131283 0.71621972\n",
            "  0.15053364 0.71285153 0.89118654 0.22807308]\n",
            " [0.35840745 0.11160175 0.0056524  0.72093568 0.76366259 0.54542349\n",
            "  0.28094702 0.03412637 0.8282294  0.98376658]\n",
            " [0.94815912 0.39159875 0.16760806 0.83910259 0.93528874 0.52725321\n",
            "  0.94649616 0.76038792 0.4131739  0.5226012 ]\n",
            " [0.73870072 0.68137473 0.6521822  0.29192373 0.20972668 0.4361282\n",
            "  0.714095   0.57746361 0.16549821 0.37052442]\n",
            " [0.01266991 0.66782376 0.58230805 0.754811   0.14142925 0.9946368\n",
            "  0.94920755 0.8687281  0.37158107 0.075649  ]]\n"
          ]
        },
        {
          "output_type": "execute_result",
          "data": {
            "text/plain": [
              "(0.0056524014030159275, 0.9993162856589912)"
            ]
          },
          "metadata": {},
          "execution_count": 22
        }
      ],
      "source": [
        "x = np.random.random((10,10))\n",
        "xmin, xmax = x.min(), x.max()\n",
        "print(x)\n",
        "xmin,xmax"
      ]
    },
    {
      "cell_type": "markdown",
      "metadata": {
        "id": "1KnVdgZ5Mc1l"
      },
      "source": [
        "#### 14. Create a random vector of size 30 and find the mean value (★☆☆) \n",
        "(**hint**: mean)"
      ]
    },
    {
      "cell_type": "code",
      "execution_count": null,
      "metadata": {
        "colab": {
          "base_uri": "https://localhost:8080/"
        },
        "id": "MQ39X66HMc1l",
        "outputId": "b23b0b5d-c1db-4c67-effe-762e2af94b33"
      },
      "outputs": [
        {
          "output_type": "execute_result",
          "data": {
            "text/plain": [
              "0.5195845434999491"
            ]
          },
          "metadata": {},
          "execution_count": 24
        }
      ],
      "source": [
        "x= np.random.random(30)\n",
        "x.mean()"
      ]
    },
    {
      "cell_type": "markdown",
      "metadata": {
        "id": "AxMyRJrMMc1l"
      },
      "source": [
        "#### 15. Create a 2d array with 1 on the border and 0 inside (★☆☆) \n",
        "(**hint**: array\\[1:-1, 1:-1\\])"
      ]
    },
    {
      "cell_type": "code",
      "execution_count": null,
      "metadata": {
        "colab": {
          "base_uri": "https://localhost:8080/"
        },
        "id": "QXaaCLD4Mc1l",
        "outputId": "38aaf9ff-57a7-49e9-b490-56167ac340e5"
      },
      "outputs": [
        {
          "output_type": "execute_result",
          "data": {
            "text/plain": [
              "array([[1., 1., 1.],\n",
              "       [1., 0., 1.],\n",
              "       [1., 1., 1.]])"
            ]
          },
          "metadata": {},
          "execution_count": 28
        }
      ],
      "source": [
        "x=np.ones((3,3))\n",
        "x\n",
        "x[1:-1,1:-1] = 0\n",
        "x"
      ]
    },
    {
      "cell_type": "markdown",
      "metadata": {
        "id": "cBjZSRigMc1l"
      },
      "source": [
        "#### 16. How to add a border (filled with 0's) around an existing array? (★☆☆) \n",
        "(**hint**: np.pad)"
      ]
    },
    {
      "cell_type": "code",
      "execution_count": null,
      "metadata": {
        "colab": {
          "base_uri": "https://localhost:8080/"
        },
        "id": "JLHDFYNxMc1m",
        "outputId": "cda9a109-6d62-4402-e634-9a254b800a6e"
      },
      "outputs": [
        {
          "output_type": "execute_result",
          "data": {
            "text/plain": [
              "array([[0., 0., 0., 0., 0., 0., 0., 0.],\n",
              "       [0., 1., 1., 1., 1., 1., 1., 0.],\n",
              "       [0., 1., 1., 1., 1., 1., 1., 0.],\n",
              "       [0., 1., 1., 1., 1., 1., 1., 0.],\n",
              "       [0., 1., 1., 1., 1., 1., 1., 0.],\n",
              "       [0., 1., 1., 1., 1., 1., 1., 0.],\n",
              "       [0., 1., 1., 1., 1., 1., 1., 0.],\n",
              "       [0., 0., 0., 0., 0., 0., 0., 0.]])"
            ]
          },
          "metadata": {},
          "execution_count": 31
        }
      ],
      "source": [
        "x = np.ones((6,6))\n",
        "x = np.pad(x, pad_width=1, mode='constant', constant_values=0)\n",
        "x"
      ]
    },
    {
      "cell_type": "markdown",
      "metadata": {
        "id": "3_6kdL0aMc1m"
      },
      "source": [
        "#### 17. What is the result of the following expression? (★☆☆) \n",
        "(**hint**: NaN = not a number, inf = infinity)"
      ]
    },
    {
      "cell_type": "markdown",
      "metadata": {
        "id": "uEMz8_NFMc1m"
      },
      "source": [
        "```python\n",
        "0 * np.nan\n",
        "np.nan == np.nan\n",
        "np.inf > np.nan\n",
        "np.nan - np.nan\n",
        "0.3 == 3 * 0.1\n",
        "```"
      ]
    },
    {
      "cell_type": "code",
      "execution_count": null,
      "metadata": {
        "id": "9KbFQaz2Mc1m",
        "colab": {
          "base_uri": "https://localhost:8080/"
        },
        "outputId": "df2f028c-988b-4326-c915-d1f22630a475"
      },
      "outputs": [
        {
          "output_type": "stream",
          "name": "stdout",
          "text": [
            "nan\n",
            "False\n",
            "False\n",
            "nan\n",
            "False\n"
          ]
        }
      ],
      "source": [
        "print(0 * np.nan)\n",
        "print(np.nan == np.nan)\n",
        "print(np.inf > np.nan)\n",
        "print(np.nan - np.nan)\n",
        "print(0.3 == 3 * 0.1)"
      ]
    },
    {
      "cell_type": "markdown",
      "metadata": {
        "id": "dwRSXsUtMc1m"
      },
      "source": [
        "#### 18. Create a 5x5 matrix with values 1,2,3,4 just below the diagonal (★☆☆) \n",
        "(**hint**: np.diag)"
      ]
    },
    {
      "cell_type": "code",
      "execution_count": null,
      "metadata": {
        "colab": {
          "base_uri": "https://localhost:8080/"
        },
        "id": "_Pkk1DW5Mc1n",
        "outputId": "b80f2788-b945-4aec-a313-ed509b5cedab"
      },
      "outputs": [
        {
          "output_type": "stream",
          "name": "stdout",
          "text": [
            "[[0 0 0 0 0]\n",
            " [1 0 0 0 0]\n",
            " [0 2 0 0 0]\n",
            " [0 0 3 0 0]\n",
            " [0 0 0 4 0]]\n"
          ]
        }
      ],
      "source": [
        "x = np.diag(1+np.arange(4), k = -1)\n",
        "print (x)"
      ]
    },
    {
      "cell_type": "markdown",
      "metadata": {
        "id": "RyFXfebhMc1n"
      },
      "source": [
        "#### 19. Create a 8x8 matrix and fill it with a checkerboard pattern (★☆☆) \n",
        "(**hint**: array\\[::2\\])"
      ]
    },
    {
      "cell_type": "code",
      "execution_count": null,
      "metadata": {
        "colab": {
          "base_uri": "https://localhost:8080/"
        },
        "id": "eK1q-e84Mc1n",
        "outputId": "bc5c655c-f884-4bc4-da56-d7e6a6c9e5f4"
      },
      "outputs": [
        {
          "output_type": "stream",
          "name": "stdout",
          "text": [
            "[[0 1 0 1 0 1 0 1]\n",
            " [1 0 1 0 1 0 1 0]\n",
            " [0 1 0 1 0 1 0 1]\n",
            " [1 0 1 0 1 0 1 0]\n",
            " [0 1 0 1 0 1 0 1]\n",
            " [1 0 1 0 1 0 1 0]\n",
            " [0 1 0 1 0 1 0 1]\n",
            " [1 0 1 0 1 0 1 0]]\n"
          ]
        }
      ],
      "source": [
        "x = np.ones((3,3))\n",
        "x = np.zeros((8,8),dtype=int)\n",
        "x[1::2,::2] = 1\n",
        "x[::2,1::2] = 1\n",
        "print(x)"
      ]
    },
    {
      "cell_type": "markdown",
      "metadata": {
        "id": "sq-1YVb5Mc1n"
      },
      "source": [
        "#### 20. Consider a (6,7,8) shape array, what is the index (x,y,z) of the 100th element? \n",
        "(**hint**: np.unravel_index)"
      ]
    },
    {
      "cell_type": "code",
      "execution_count": null,
      "metadata": {
        "id": "m2XG_d4GMc1n",
        "colab": {
          "base_uri": "https://localhost:8080/"
        },
        "outputId": "b99e4bc6-8f45-40dc-a8cb-10da7f56e2ab"
      },
      "outputs": [
        {
          "output_type": "stream",
          "name": "stdout",
          "text": [
            "(1, 5, 4)\n"
          ]
        }
      ],
      "source": [
        "print (np.unravel_index(100, (6,7,8)))"
      ]
    },
    {
      "cell_type": "markdown",
      "metadata": {
        "id": "odY26YhmMc1o"
      },
      "source": [
        "#### 21. Create a checkerboard 8x8 matrix using the tile function (★☆☆) \n",
        "(**hint**: np.tile)"
      ]
    },
    {
      "cell_type": "code",
      "execution_count": null,
      "metadata": {
        "id": "S7a3-BlEMc1o",
        "colab": {
          "base_uri": "https://localhost:8080/"
        },
        "outputId": "061bcb8b-0811-435f-b82e-a52aeb44d0dc"
      },
      "outputs": [
        {
          "output_type": "stream",
          "name": "stdout",
          "text": [
            "[[0 1 0 1 0 1 0 1]\n",
            " [1 0 1 0 1 0 1 0]\n",
            " [0 1 0 1 0 1 0 1]\n",
            " [1 0 1 0 1 0 1 0]\n",
            " [0 1 0 1 0 1 0 1]\n",
            " [1 0 1 0 1 0 1 0]\n",
            " [0 1 0 1 0 1 0 1]\n",
            " [1 0 1 0 1 0 1 0]]\n"
          ]
        }
      ],
      "source": [
        "x= np.array([[0,1], [1,0]])\n",
        "c= np.tile(x,(4,4))\n",
        "print (c)\n"
      ]
    },
    {
      "cell_type": "markdown",
      "metadata": {
        "id": "81ZAoNZZMc1o"
      },
      "source": [
        "#### 22. Normalize a 5x5 random matrix (★☆☆) \n",
        "(**hint**: (x - min) / (max - min))"
      ]
    },
    {
      "cell_type": "code",
      "execution_count": null,
      "metadata": {
        "id": "TNKMNw6wMc1o",
        "colab": {
          "base_uri": "https://localhost:8080/"
        },
        "outputId": "d1ce19c3-34ff-4bd4-8b9a-5aa2c6df4524"
      },
      "outputs": [
        {
          "output_type": "execute_result",
          "data": {
            "text/plain": [
              "array([[0.82945309, 0.        , 0.65932047, 0.34852445, 0.50623058],\n",
              "       [0.72398626, 0.88999863, 0.0168743 , 0.75171357, 0.70483908],\n",
              "       [0.45055618, 0.04481081, 0.28423798, 0.07570753, 0.44822981],\n",
              "       [0.61248296, 1.        , 0.43098064, 0.95818521, 0.0829915 ],\n",
              "       [0.76222496, 0.371713  , 0.25227073, 0.93856744, 0.25637164]])"
            ]
          },
          "metadata": {},
          "execution_count": 16
        }
      ],
      "source": [
        "x= np.random.random((5,5))\n",
        "max,min = x.max(),x.min()\n",
        "z=(x - min) / (max - min)\n",
        "z"
      ]
    },
    {
      "cell_type": "markdown",
      "metadata": {
        "id": "Q0SWS7D9Mc1o"
      },
      "source": [
        "#### 23. Create a custom dtype that describes a color as four unsigned bytes (RGBA) (★☆☆) \n",
        "(**hint**: np.dtype)"
      ]
    },
    {
      "cell_type": "code",
      "source": [
        "color = np.dtype([(\"r\", np.ubyte, 1),\n",
        "                  (\"g\", np.ubyte, 1),\n",
        "                  (\"b\", np.ubyte, 1),\n",
        "                  (\"a\", np.ubyte, 1)])\n",
        "print(color)"
      ],
      "metadata": {
        "id": "XwsZ8vcQYtxT",
        "colab": {
          "base_uri": "https://localhost:8080/"
        },
        "outputId": "b06b0789-93c1-477c-e155-2c10d1fe5875"
      },
      "execution_count": null,
      "outputs": [
        {
          "output_type": "stream",
          "name": "stdout",
          "text": [
            "[('r', 'u1'), ('g', 'u1'), ('b', 'u1'), ('a', 'u1')]\n"
          ]
        },
        {
          "output_type": "stream",
          "name": "stderr",
          "text": [
            "/usr/local/lib/python3.7/dist-packages/ipykernel_launcher.py:4: FutureWarning: Passing (type, 1) or '1type' as a synonym of type is deprecated; in a future version of numpy, it will be understood as (type, (1,)) / '(1,)type'.\n",
            "  after removing the cwd from sys.path.\n"
          ]
        }
      ]
    },
    {
      "cell_type": "markdown",
      "metadata": {
        "id": "pFV5Zc9QMc1p"
      },
      "source": [
        "#### 24. Multiply a 5x3 matrix by a 3x2 matrix (real matrix product) (★☆☆) \n",
        "(**hint**: np.dot | @)"
      ]
    },
    {
      "cell_type": "code",
      "execution_count": null,
      "metadata": {
        "id": "X2hwL22JMc1p",
        "colab": {
          "base_uri": "https://localhost:8080/"
        },
        "outputId": "193e69ad-08fb-4da8-ac2c-e493565dc4a8"
      },
      "outputs": [
        {
          "output_type": "execute_result",
          "data": {
            "text/plain": [
              "array([[3., 3.],\n",
              "       [3., 3.],\n",
              "       [3., 3.],\n",
              "       [3., 3.],\n",
              "       [3., 3.]])"
            ]
          },
          "metadata": {},
          "execution_count": 18
        }
      ],
      "source": [
        "x=np.dot(np.ones((5,3)), np.ones((3,2)))\n",
        "x"
      ]
    },
    {
      "cell_type": "markdown",
      "metadata": {
        "id": "wq9Yvq2GMc1p"
      },
      "source": [
        "#### 25. Given a 1D array, negate all elements which are between 3 and 8, in place. (★☆☆) \n",
        "(**hint**: >, <=)"
      ]
    },
    {
      "cell_type": "code",
      "source": [
        "x = np.arange(11)\n",
        "x[(x >= 3) & (x <= 8)] = -1\n",
        "x"
      ],
      "metadata": {
        "colab": {
          "base_uri": "https://localhost:8080/"
        },
        "id": "1lbdcKndhPZ3",
        "outputId": "c15e69b6-f553-441c-bb6d-87d4a9ffc410"
      },
      "execution_count": null,
      "outputs": [
        {
          "output_type": "execute_result",
          "data": {
            "text/plain": [
              "array([ 0,  1,  2, -1, -1, -1, -1, -1, -1,  9, 10])"
            ]
          },
          "metadata": {},
          "execution_count": 50
        }
      ]
    },
    {
      "cell_type": "markdown",
      "metadata": {
        "id": "iuLzgTTiMc1p"
      },
      "source": [
        "#### 26. What is the output of the following script? (★☆☆) \n",
        "(**hint**: np.sum)"
      ]
    },
    {
      "cell_type": "markdown",
      "metadata": {
        "id": "39YTC0MWMc1p"
      },
      "source": [
        "```python\n",
        "# Author: Jake VanderPlas\n",
        "\n",
        "print(sum(range(5),-1))\n",
        "from numpy import *\n",
        "print(sum(range(5),-1))\n",
        "```"
      ]
    },
    {
      "cell_type": "code",
      "execution_count": null,
      "metadata": {
        "id": "0miAwvqvMc1p",
        "colab": {
          "base_uri": "https://localhost:8080/"
        },
        "outputId": "cb1328a9-0fe1-4656-cebd-f3930fc7d009"
      },
      "outputs": [
        {
          "output_type": "stream",
          "name": "stdout",
          "text": [
            "9\n",
            "10\n"
          ]
        }
      ],
      "source": [
        "print(sum(range(5),-1))\n",
        "from numpy import sum\n",
        "print(sum(range(5),-1))"
      ]
    },
    {
      "cell_type": "markdown",
      "metadata": {
        "id": "xgcv1bBqMc1q"
      },
      "source": [
        "#### 27. Consider an integer vector Z, which of these expressions are legal? (★☆☆)"
      ]
    },
    {
      "cell_type": "markdown",
      "metadata": {
        "id": "FhNmkSsuMc1q"
      },
      "source": [
        "```python\n",
        "Z**Z\n",
        "2 << Z >> 2\n",
        "Z <- Z\n",
        "1j*Z\n",
        "Z/1/1\n",
        "Z<Z>Z\n",
        "```"
      ]
    },
    {
      "cell_type": "code",
      "execution_count": null,
      "metadata": {
        "id": "S0wJ2eslMc1q",
        "colab": {
          "base_uri": "https://localhost:8080/"
        },
        "outputId": "6e17aa63-4c33-4264-c035-6da49514b29c"
      },
      "outputs": [
        {
          "output_type": "execute_result",
          "data": {
            "text/plain": [
              "array([0., 1., 2.])"
            ]
          },
          "metadata": {},
          "execution_count": 8
        }
      ],
      "source": [
        "Z = np.arange(3)\n",
        "Z ** Z\n",
        "2 << Z >> 2\n",
        "Z < - Z \n",
        "1j * Z \n",
        "Z / 1 / 1\n",
        "#Z<Z>Z- except this all are legal"
      ]
    },
    {
      "cell_type": "markdown",
      "metadata": {
        "id": "6xpDx8z6Mc1q"
      },
      "source": [
        "#### 28. What are the result of the following expressions?"
      ]
    },
    {
      "cell_type": "markdown",
      "metadata": {
        "id": "O_qAxVdDMc1q"
      },
      "source": [
        "```python\n",
        "np.array(0) / np.array(0)\n",
        "np.array(0) // np.array(0)\n",
        "np.array([np.nan]).astype(int).astype(float)\n",
        "```"
      ]
    },
    {
      "cell_type": "code",
      "execution_count": null,
      "metadata": {
        "id": "A-RZTm78Mc1q",
        "colab": {
          "base_uri": "https://localhost:8080/"
        },
        "outputId": "82b708ec-895e-41c4-c780-27679ec7b815"
      },
      "outputs": [
        {
          "output_type": "stream",
          "name": "stdout",
          "text": [
            "nan\n",
            "0\n",
            "[-9.22337204e+18]\n"
          ]
        },
        {
          "output_type": "stream",
          "name": "stderr",
          "text": [
            "/usr/local/lib/python3.7/dist-packages/ipykernel_launcher.py:1: RuntimeWarning: invalid value encountered in true_divide\n",
            "  \"\"\"Entry point for launching an IPython kernel.\n",
            "/usr/local/lib/python3.7/dist-packages/ipykernel_launcher.py:2: RuntimeWarning: divide by zero encountered in floor_divide\n",
            "  \n"
          ]
        }
      ],
      "source": [
        "print(np.array(0) / np.array(0))\n",
        "print(np.array(0) // np.array(0))\n",
        "print(np.array([np.nan]).astype(int).astype(float))"
      ]
    },
    {
      "cell_type": "markdown",
      "metadata": {
        "id": "HI5ij3BxMc1q"
      },
      "source": [
        "#### 29. How to round away from zero a float array ? (★☆☆) \n",
        "(**hint**: np.uniform, np.copysign, np.ceil, np.abs)"
      ]
    },
    {
      "cell_type": "code",
      "execution_count": null,
      "metadata": {
        "id": "6hgElmyLMc1r",
        "colab": {
          "base_uri": "https://localhost:8080/"
        },
        "outputId": "703ae844-29fb-4358-b405-62b5af600ef2"
      },
      "outputs": [
        {
          "output_type": "execute_result",
          "data": {
            "text/plain": [
              "array([ 867.,  719.,  -62.,  119.,  -50., 1004.,   70.,  383., 1035.,\n",
              "        932.])"
            ]
          },
          "metadata": {},
          "execution_count": 14
        }
      ],
      "source": [
        "x = np.random.uniform(-456, +1098, 10)\n",
        "np.copysign(np.ceil(np.abs(x)), x)"
      ]
    },
    {
      "cell_type": "markdown",
      "metadata": {
        "id": "1jiXn8ZVMc1r"
      },
      "source": [
        "#### 30. How to find common values between two arrays? (★☆☆) \n",
        "(**hint**: np.intersect1d)"
      ]
    },
    {
      "cell_type": "code",
      "execution_count": null,
      "metadata": {
        "id": "b6ZEYjerMc1r",
        "colab": {
          "base_uri": "https://localhost:8080/"
        },
        "outputId": "123243ee-8edf-4d27-ce5d-55556952ded8"
      },
      "outputs": [
        {
          "output_type": "execute_result",
          "data": {
            "text/plain": [
              "array([5, 6, 7, 8, 9])"
            ]
          },
          "metadata": {},
          "execution_count": 15
        }
      ],
      "source": [
        "x = np.arange(0, 10)\n",
        "y = np.arange(5, 15)\n",
        "np.intersect1d(x, y)"
      ]
    },
    {
      "cell_type": "markdown",
      "metadata": {
        "id": "T6alwXPeMc1v"
      },
      "source": [
        "#### 31. How to ignore all numpy warnings (not recommended)? (★☆☆) \n",
        "(**hint**: np.seterr, np.errstate)"
      ]
    },
    {
      "cell_type": "code",
      "execution_count": null,
      "metadata": {
        "id": "EtuNM5IwMc1v"
      },
      "outputs": [],
      "source": [
        "defaults = np.seterr(all=\"ignore\")\n",
        "Z = np.ones(1) / 0\n",
        "_ = np.seterr(**defaults)"
      ]
    },
    {
      "cell_type": "markdown",
      "metadata": {
        "id": "mnFI2TwlMc1w"
      },
      "source": [
        "#### 32. Is the following expressions true? (★☆☆) \n",
        "(**hint**: imaginary number)"
      ]
    },
    {
      "cell_type": "markdown",
      "metadata": {
        "id": "1NInKwt-Mc1y"
      },
      "source": [
        "```python\n",
        "np.sqrt(-1) == np.emath.sqrt(-1)\n",
        "```"
      ]
    },
    {
      "cell_type": "code",
      "execution_count": null,
      "metadata": {
        "id": "rBhLPd4BMc1z",
        "colab": {
          "base_uri": "https://localhost:8080/"
        },
        "outputId": "c9225ea8-76c6-49e4-e17a-778b9a7fe2b7"
      },
      "outputs": [
        {
          "output_type": "stream",
          "name": "stdout",
          "text": [
            "False\n"
          ]
        }
      ],
      "source": [
        "print(np.sqrt(-1) == np.emath.sqrt(-1))"
      ]
    },
    {
      "cell_type": "markdown",
      "metadata": {
        "id": "EZEZaB2tMc1z"
      },
      "source": [
        "#### 33. How to get the dates of yesterday, today and tomorrow? (★☆☆) \n",
        "(**hint**: np.datetime64, np.timedelta64)"
      ]
    },
    {
      "cell_type": "code",
      "source": [
        "today = np.datetime64('today', 'D')\n",
        "yesterday = np.datetime64('today', 'D') - np.timedelta64(1, 'D')\n",
        "tomorrow =np.datetime64('today', 'D') + np.timedelta64(1, 'D')\n",
        "print(today)\n",
        "print(yesterday)\n",
        "print(tomorrow)"
      ],
      "metadata": {
        "colab": {
          "base_uri": "https://localhost:8080/"
        },
        "id": "k1vSHKl4kZ-u",
        "outputId": "b7f0b212-6127-4755-d1a5-34dee9e01afc"
      },
      "execution_count": null,
      "outputs": [
        {
          "output_type": "stream",
          "name": "stdout",
          "text": [
            "2022-10-21\n",
            "2022-10-20\n",
            "2022-10-22\n"
          ]
        }
      ]
    },
    {
      "cell_type": "markdown",
      "metadata": {
        "id": "-1_evEUNMc1z"
      },
      "source": [
        "#### 34. How to get all the dates corresponding to the month of July 2016? (★★☆) \n",
        "(**hint**: np.arange(dtype=datetime64\\['D'\\]))"
      ]
    },
    {
      "cell_type": "code",
      "execution_count": null,
      "metadata": {
        "id": "a2Gq7_2tMc1z",
        "colab": {
          "base_uri": "https://localhost:8080/"
        },
        "outputId": "cb09e41e-3f09-4f57-ab36-229ea4532e98"
      },
      "outputs": [
        {
          "output_type": "execute_result",
          "data": {
            "text/plain": [
              "array(['2016-07-01', '2016-07-02', '2016-07-03', '2016-07-04',\n",
              "       '2016-07-05', '2016-07-06', '2016-07-07', '2016-07-08',\n",
              "       '2016-07-09', '2016-07-10', '2016-07-11', '2016-07-12',\n",
              "       '2016-07-13', '2016-07-14', '2016-07-15', '2016-07-16',\n",
              "       '2016-07-17', '2016-07-18', '2016-07-19', '2016-07-20',\n",
              "       '2016-07-21', '2016-07-22', '2016-07-23', '2016-07-24',\n",
              "       '2016-07-25', '2016-07-26', '2016-07-27', '2016-07-28',\n",
              "       '2016-07-29', '2016-07-30', '2016-07-31'], dtype='datetime64[D]')"
            ]
          },
          "metadata": {},
          "execution_count": 23
        }
      ],
      "source": [
        "x = np.arange('2016-07', '2016-08', dtype='datetime64[D]')\n",
        "x"
      ]
    },
    {
      "cell_type": "markdown",
      "metadata": {
        "id": "fSqvACqlMc1z"
      },
      "source": [
        "#### 35. How to compute ((A+B)\\*(-A/2)) in place (without copy)? (★★☆) \n",
        "(**hint**: np.add(out=), np.negative(out=), np.multiply(out=), np.divide(out=))"
      ]
    },
    {
      "cell_type": "code",
      "execution_count": null,
      "metadata": {
        "id": "KVd1OevMMc10",
        "colab": {
          "base_uri": "https://localhost:8080/"
        },
        "outputId": "cc3fea6d-8cd1-4d44-f7f9-ccfea5b714d8"
      },
      "outputs": [
        {
          "output_type": "execute_result",
          "data": {
            "text/plain": [
              "array([-1.5, -1.5, -1.5])"
            ]
          },
          "metadata": {},
          "execution_count": 26
        }
      ],
      "source": [
        "A = np.ones(3) * 1\n",
        "B = np.ones(3) * 2\n",
        "C = np.ones(3) * 3\n",
        "np.add(A, B, out=B)\n",
        "np.divide(A, 2, out=A)\n",
        "np.negative(A, out=A)\n",
        "np.multiply(A, B, out=A)"
      ]
    },
    {
      "cell_type": "markdown",
      "metadata": {
        "id": "oPTSk6QXMc10"
      },
      "source": [
        "#### 36. Extract the integer part of a random array using 5 different methods (★★☆) \n",
        "(**hint**: %, np.floor, np.ceil, astype, np.trunc)"
      ]
    },
    {
      "cell_type": "code",
      "execution_count": null,
      "metadata": {
        "id": "Fxnxyeu6Mc10",
        "colab": {
          "base_uri": "https://localhost:8080/"
        },
        "outputId": "cf415e25-e019-4879-fc51-9b5f03e99d06"
      },
      "outputs": [
        {
          "output_type": "execute_result",
          "data": {
            "text/plain": [
              "array([ 5.,  6., -8.,  4., -0.,  7., -1.,  3., -3.,  3.])"
            ]
          },
          "metadata": {},
          "execution_count": 27
        }
      ],
      "source": [
        "x = np.random.uniform(-10, +10, 10)\n",
        "x.astype(np.int32)\n",
        "np.trunc(x)"
      ]
    },
    {
      "cell_type": "markdown",
      "metadata": {
        "id": "_54RS_5SMc10"
      },
      "source": [
        "#### 37. Create a 5x5 matrix with row values ranging from 0 to 4 (★★☆) \n",
        "(**hint**: np.arange)"
      ]
    },
    {
      "cell_type": "code",
      "execution_count": null,
      "metadata": {
        "id": "3HW2r_VVMc10"
      },
      "outputs": [],
      "source": [
        "x = np.zeros((5, 5))\n",
        "x += np.arange(5)"
      ]
    },
    {
      "cell_type": "markdown",
      "metadata": {
        "id": "gG4VOzHHMc10"
      },
      "source": [
        "#### 38. Consider a generator function that generates 10 integers and use it to build an array (★☆☆) \n",
        "(**hint**: np.fromiter)"
      ]
    },
    {
      "cell_type": "code",
      "execution_count": null,
      "metadata": {
        "id": "MQ8sz5bTMc11",
        "colab": {
          "base_uri": "https://localhost:8080/"
        },
        "outputId": "5fd71535-ae87-4be5-95bf-422f19762887"
      },
      "outputs": [
        {
          "output_type": "execute_result",
          "data": {
            "text/plain": [
              "array([0., 1., 2., 3., 4., 5., 6., 7., 8., 9.], dtype=float32)"
            ]
          },
          "metadata": {},
          "execution_count": 29
        }
      ],
      "source": [
        "def generate_integers():\n",
        "    for i in range(10):\n",
        "        yield i\n",
        "np.fromiter(generate_integers(), dtype=np.float32, count=-1)"
      ]
    },
    {
      "cell_type": "markdown",
      "metadata": {
        "id": "qqcEEMw5Mc11"
      },
      "source": [
        "#### 39. Create a vector of size 10 with values ranging from 0 to 1, both excluded (★★☆) \n",
        "(**hint**: np.linspace)"
      ]
    },
    {
      "cell_type": "code",
      "execution_count": null,
      "metadata": {
        "id": "xw4ThgWNMc11",
        "colab": {
          "base_uri": "https://localhost:8080/"
        },
        "outputId": "78ca7739-4852-4ced-a79a-010cec49f876"
      },
      "outputs": [
        {
          "output_type": "execute_result",
          "data": {
            "text/plain": [
              "array([0. , 1.1, 2.2, 3.3, 4.4, 5.5, 6.6, 7.7, 8.8, 9.9])"
            ]
          },
          "metadata": {},
          "execution_count": 30
        }
      ],
      "source": [
        "np.linspace(start=0, stop=11, num=10, endpoint=False)"
      ]
    },
    {
      "cell_type": "markdown",
      "metadata": {
        "id": "lwNE8FEWMc11"
      },
      "source": [
        "#### 40. Create a random vector of size 10 and sort it (★★☆) \n",
        "(**hint**: sort)"
      ]
    },
    {
      "cell_type": "code",
      "execution_count": null,
      "metadata": {
        "id": "60Wp-GrRMc11",
        "colab": {
          "base_uri": "https://localhost:8080/"
        },
        "outputId": "5a57a8f1-c8ff-4fa4-aa99-92d7552cc2bd"
      },
      "outputs": [
        {
          "output_type": "execute_result",
          "data": {
            "text/plain": [
              "array([0.04508258, 0.04819874, 0.08622262, 0.20904441, 0.40369551,\n",
              "       0.41454801, 0.73546117, 0.85680336, 0.86532507, 0.97171687])"
            ]
          },
          "metadata": {},
          "execution_count": 33
        }
      ],
      "source": [
        "x = np.random.random(size=10)\n",
        "x.sort()\n",
        "x"
      ]
    },
    {
      "cell_type": "markdown",
      "metadata": {
        "id": "cYHquyZoMc11"
      },
      "source": [
        "#### 41. How to sum a small array faster than np.sum? (★★☆) \n",
        "(**hint**: np.add.reduce)"
      ]
    },
    {
      "cell_type": "code",
      "execution_count": null,
      "metadata": {
        "id": "OxbU2QkmMc12",
        "colab": {
          "base_uri": "https://localhost:8080/"
        },
        "outputId": "1c90ff72-8959-4910-df2e-14f0f38a6f40"
      },
      "outputs": [
        {
          "output_type": "stream",
          "name": "stdout",
          "text": [
            "7.113456726074219\n",
            "2.0172595977783203\n"
          ]
        }
      ],
      "source": [
        "import time\n",
        "\n",
        "begin_time = time.time()\n",
        "x = np.arange(1000000)\n",
        "np.sum(x)\n",
        "end_time = time.time()\n",
        "print(str(1000*(end_time - begin_time)))\n",
        "\n",
        "begin_time2 = time.time()\n",
        "x = np.arange(1000000)\n",
        "np.add.reduce(x)\n",
        "end_time2 = time.time()\n",
        "print(str(1000*(end_time2 - begin_time2)))"
      ]
    },
    {
      "cell_type": "markdown",
      "metadata": {
        "id": "bja0sT9rMc12"
      },
      "source": [
        "#### 42. Consider two random array A and B, check if they are equal (★★☆) \n",
        "(**hint**: np.allclose, np.array\\_equal)"
      ]
    },
    {
      "cell_type": "code",
      "execution_count": null,
      "metadata": {
        "id": "6wZghjndMc12",
        "colab": {
          "base_uri": "https://localhost:8080/"
        },
        "outputId": "fba1840d-12e1-4623-974c-3a1b4f917063"
      },
      "outputs": [
        {
          "output_type": "stream",
          "name": "stdout",
          "text": [
            "False\n"
          ]
        }
      ],
      "source": [
        "A = np.random.randint(0,2,5)\n",
        "B = np.random.randint(0,2,5)\n",
        "equal = np.allclose(A,B)\n",
        "print(equal)"
      ]
    },
    {
      "cell_type": "markdown",
      "metadata": {
        "id": "X-c6krV9Mc12"
      },
      "source": [
        "#### 43. Make an array immutable (read-only) (★★☆) \n",
        "(**hint**: flags.writeable)"
      ]
    },
    {
      "cell_type": "code",
      "source": [
        "x = np.zeros(10)\n",
        "x.flags.writeable = False\n",
        "x[1] = 1\n",
        "#ValueError: assignment destination is read-only"
      ],
      "metadata": {
        "id": "7N7eldZ7F4kq",
        "colab": {
          "base_uri": "https://localhost:8080/",
          "height": 200
        },
        "outputId": "a29b50dd-63d3-42e4-983e-22dd0694f14d"
      },
      "execution_count": null,
      "outputs": [
        {
          "output_type": "error",
          "ename": "ValueError",
          "evalue": "ignored",
          "traceback": [
            "\u001b[0;31m---------------------------------------------------------------------------\u001b[0m",
            "\u001b[0;31mValueError\u001b[0m                                Traceback (most recent call last)",
            "\u001b[0;32m<ipython-input-36-2c37cbcb6cf7>\u001b[0m in \u001b[0;36m<module>\u001b[0;34m\u001b[0m\n\u001b[1;32m      1\u001b[0m \u001b[0mx\u001b[0m \u001b[0;34m=\u001b[0m \u001b[0mnp\u001b[0m\u001b[0;34m.\u001b[0m\u001b[0mzeros\u001b[0m\u001b[0;34m(\u001b[0m\u001b[0;36m10\u001b[0m\u001b[0;34m)\u001b[0m\u001b[0;34m\u001b[0m\u001b[0;34m\u001b[0m\u001b[0m\n\u001b[1;32m      2\u001b[0m \u001b[0mx\u001b[0m\u001b[0;34m.\u001b[0m\u001b[0mflags\u001b[0m\u001b[0;34m.\u001b[0m\u001b[0mwriteable\u001b[0m \u001b[0;34m=\u001b[0m \u001b[0;32mFalse\u001b[0m\u001b[0;34m\u001b[0m\u001b[0;34m\u001b[0m\u001b[0m\n\u001b[0;32m----> 3\u001b[0;31m \u001b[0mx\u001b[0m\u001b[0;34m[\u001b[0m\u001b[0;36m1\u001b[0m\u001b[0;34m]\u001b[0m \u001b[0;34m=\u001b[0m \u001b[0;36m1\u001b[0m\u001b[0;34m\u001b[0m\u001b[0;34m\u001b[0m\u001b[0m\n\u001b[0m",
            "\u001b[0;31mValueError\u001b[0m: assignment destination is read-only"
          ]
        }
      ]
    },
    {
      "cell_type": "markdown",
      "metadata": {
        "id": "N7B0joDQMc12"
      },
      "source": [
        "#### 44. Consider a random 10x2 matrix representing cartesian coordinates, convert them to polar coordinates (★★☆) \n",
        "(**hint**: np.sqrt, np.arctan2)"
      ]
    },
    {
      "cell_type": "code",
      "execution_count": null,
      "metadata": {
        "id": "KBvot8z8Mc12",
        "colab": {
          "base_uri": "https://localhost:8080/"
        },
        "outputId": "0db0f640-8d50-4276-ce57-17ea00fd41b5"
      },
      "outputs": [
        {
          "output_type": "stream",
          "name": "stdout",
          "text": [
            "[0.4560725  0.45946859 0.89642536 0.95644872 0.85778981 1.09591171\n",
            " 0.98602232 0.70225976 1.00473709 0.83247242]\n",
            "[0.84764106 1.17924883 0.70453957 0.82134371 0.04342597 1.07467584\n",
            " 0.46606616 0.82061492 1.00797386 0.92541237]\n"
          ]
        }
      ],
      "source": [
        "Z = np.random.random((10,2))\n",
        "X,Y = Z[:,0], Z[:,1]\n",
        "R = np.sqrt(X**2+Y**2)\n",
        "T = np.arctan2(Y,X)\n",
        "print(R)\n",
        "print(T)"
      ]
    },
    {
      "cell_type": "markdown",
      "metadata": {
        "id": "GNjdZVbhMc13"
      },
      "source": [
        "#### 45. Create random vector of size 10 and replace the maximum value by 0 (★★☆) \n",
        "(**hint**: argmax)"
      ]
    },
    {
      "cell_type": "code",
      "execution_count": null,
      "metadata": {
        "id": "eP4s_zpGMc13",
        "colab": {
          "base_uri": "https://localhost:8080/"
        },
        "outputId": "f8055f55-0126-414e-aea3-919fbf1dfbf0"
      },
      "outputs": [
        {
          "output_type": "execute_result",
          "data": {
            "text/plain": [
              "array([0.52562533, 0.0315652 , 0.34832016, 0.        , 0.        ,\n",
              "       0.50643338, 0.09255347, 0.44832246, 0.33351525, 0.43454678])"
            ]
          },
          "metadata": {},
          "execution_count": 38
        }
      ],
      "source": [
        "x = np.random.random(10)\n",
        "x[x == np.max(x)] = 0\n",
        "x[x.argmax()] = 0\n",
        "x"
      ]
    },
    {
      "cell_type": "markdown",
      "metadata": {
        "id": "AJr6nSaXMc13"
      },
      "source": [
        "#### 46. Create a structured array with `x` and `y` coordinates covering the \\[0,1\\]x\\[0,1\\] area (★★☆) \n",
        "(**hint**: np.meshgrid)"
      ]
    },
    {
      "cell_type": "code",
      "execution_count": null,
      "metadata": {
        "id": "lhgYYWcXMc13",
        "colab": {
          "base_uri": "https://localhost:8080/"
        },
        "outputId": "52f9fbe9-0012-45aa-f1b3-3ae768d65efc"
      },
      "outputs": [
        {
          "output_type": "execute_result",
          "data": {
            "text/plain": [
              "(array([[0.  , 0.25, 0.5 , 0.75, 1.  ],\n",
              "        [0.  , 0.25, 0.5 , 0.75, 1.  ],\n",
              "        [0.  , 0.25, 0.5 , 0.75, 1.  ],\n",
              "        [0.  , 0.25, 0.5 , 0.75, 1.  ],\n",
              "        [0.  , 0.25, 0.5 , 0.75, 1.  ]]),\n",
              " array([[0.  , 0.  , 0.  , 0.  , 0.  ],\n",
              "        [0.25, 0.25, 0.25, 0.25, 0.25],\n",
              "        [0.5 , 0.5 , 0.5 , 0.5 , 0.5 ],\n",
              "        [0.75, 0.75, 0.75, 0.75, 0.75],\n",
              "        [1.  , 1.  , 1.  , 1.  , 1.  ]]))"
            ]
          },
          "metadata": {},
          "execution_count": 41
        }
      ],
      "source": [
        "z = np.zeros((5, 5), [('x', float), ('y', float)])\n",
        "z['x'], z['y'] = np.meshgrid(np.linspace(0, 1, 5), np.linspace(0, 1, 5))\n",
        "z['x'], z['y']"
      ]
    },
    {
      "cell_type": "markdown",
      "metadata": {
        "id": "BJUh0GDsMc13"
      },
      "source": [
        "####  47. Given two arrays, X and Y, construct the Cauchy matrix C (Cij =1/(xi - yj)) \n",
        "(**hint**: np.subtract.outer)"
      ]
    },
    {
      "cell_type": "code",
      "execution_count": null,
      "metadata": {
        "id": "bai5pdCqMc13",
        "colab": {
          "base_uri": "https://localhost:8080/"
        },
        "outputId": "943dc0dd-e810-4112-8bc1-083797d7be80"
      },
      "outputs": [
        {
          "output_type": "execute_result",
          "data": {
            "text/plain": [
              "array([[-1.63265005e+06,  5.56176837e+04,  7.30417115e+06,\n",
              "        -1.27003330e+02, -3.13325690e+05],\n",
              "       [-2.36397430e+07,  5.48509219e+04, -5.10716616e+05,\n",
              "         7.26607271e+06, -1.59212333e+07],\n",
              "       [ 3.58451695e+06, -1.47454467e+07, -5.59899459e+05,\n",
              "        -9.44275917e+05,  1.00117785e+04],\n",
              "       [ 1.27630408e+04,  6.19954120e+06,  5.96499263e+04,\n",
              "         7.77869213e+06,  7.16835847e+04],\n",
              "       [ 1.18010101e+04, -4.11683617e+05, -1.49271729e+07,\n",
              "        -7.29186179e+05,  1.71786627e+06]])"
            ]
          },
          "metadata": {},
          "execution_count": 42
        }
      ],
      "source": [
        "x = np.random.random((5, 5))\n",
        "y = np.random.random((5, 5))\n",
        "c = 1 / (x - y)\n",
        "c = 1 / np.subtract.outer(x, y)\n",
        "np.linalg.det(c)"
      ]
    },
    {
      "cell_type": "markdown",
      "metadata": {
        "id": "La3LbiBNMc13"
      },
      "source": [
        "#### 48. Print the minimum and maximum representable value for each numpy scalar type (★★☆) \n",
        "(**hint**: np.iinfo, np.finfo, eps)"
      ]
    },
    {
      "cell_type": "code",
      "execution_count": null,
      "metadata": {
        "id": "50MsU3XUMc14",
        "colab": {
          "base_uri": "https://localhost:8080/"
        },
        "outputId": "55669c8d-b9e6-49cd-89f5-3b5b8609af8f"
      },
      "outputs": [
        {
          "output_type": "stream",
          "name": "stdout",
          "text": [
            "-128\n",
            "127\n",
            "-2147483648\n",
            "2147483647\n",
            "-9223372036854775808\n",
            "9223372036854775807\n",
            "-3.4028235e+38\n",
            "3.4028235e+38\n",
            "1.1920929e-07\n",
            "-1.7976931348623157e+308\n",
            "1.7976931348623157e+308\n",
            "2.220446049250313e-16\n"
          ]
        }
      ],
      "source": [
        "for dtype in [np.int8, np.int32, np.int64]:\n",
        "   print(np.iinfo(dtype).min)\n",
        "   print(np.iinfo(dtype).max)\n",
        "for dtype in [np.float32, np.float64]:\n",
        "   print(np.finfo(dtype).min)\n",
        "   print(np.finfo(dtype).max)\n",
        "   print(np.finfo(dtype).eps)"
      ]
    },
    {
      "cell_type": "markdown",
      "metadata": {
        "id": "z698ZNQjMc14"
      },
      "source": [
        "#### 49. How to print all the values of an array? (★★☆) \n",
        "(**hint**: np.set\\_printoptions)"
      ]
    },
    {
      "cell_type": "code",
      "source": [
        "np.set_printoptions(threshold=10)\n",
        "np.arange(10)"
      ],
      "metadata": {
        "id": "H3huOYBeFXXg",
        "colab": {
          "base_uri": "https://localhost:8080/"
        },
        "outputId": "676d92cb-a21c-403a-c60f-30694c83ff0b"
      },
      "execution_count": null,
      "outputs": [
        {
          "output_type": "execute_result",
          "data": {
            "text/plain": [
              "array([0, 1, 2, 3, 4, 5, 6, 7, 8, 9])"
            ]
          },
          "metadata": {},
          "execution_count": 52
        }
      ]
    },
    {
      "cell_type": "markdown",
      "metadata": {
        "id": "Ld6FQMMXMc14"
      },
      "source": [
        "#### 50. How to find the closest value (to a given scalar) in a vector? (★★☆) \n",
        "(**hint**: argmin)"
      ]
    },
    {
      "cell_type": "code",
      "execution_count": null,
      "metadata": {
        "id": "0xF7783dMc14",
        "colab": {
          "base_uri": "https://localhost:8080/"
        },
        "outputId": "815c0da8-a61e-49d7-b71b-d029de0f6fc0"
      },
      "outputs": [
        {
          "output_type": "stream",
          "name": "stdout",
          "text": [
            "93\n"
          ]
        }
      ],
      "source": [
        "Z = np.arange(100)\n",
        "v = np.random.uniform(0,100)\n",
        "index = (np.abs(Z-v)).argmin()\n",
        "print(Z[index])"
      ]
    },
    {
      "cell_type": "markdown",
      "metadata": {
        "id": "a9mrw_IoMc14"
      },
      "source": [
        "#### 51. Create a structured array representing a position (x,y) and a color (r,g,b) (★★☆) \n",
        "(**hint**: dtype)"
      ]
    },
    {
      "cell_type": "code",
      "execution_count": null,
      "metadata": {
        "id": "YjAQZfrpMc14",
        "colab": {
          "base_uri": "https://localhost:8080/"
        },
        "outputId": "3ff41191-8c68-4166-8f83-cf45ae1c53cf"
      },
      "outputs": [
        {
          "output_type": "stream",
          "name": "stderr",
          "text": [
            "/usr/local/lib/python3.7/dist-packages/ipykernel_launcher.py:5: FutureWarning: Passing (type, 1) or '1type' as a synonym of type is deprecated; in a future version of numpy, it will be understood as (type, (1,)) / '(1,)type'.\n",
            "  \"\"\"\n"
          ]
        },
        {
          "output_type": "execute_result",
          "data": {
            "text/plain": [
              "array([((0., 0.), (0., 0., 0.)), ((0., 0.), (0., 0., 0.)),\n",
              "       ((0., 0.), (0., 0., 0.)), ((0., 0.), (0., 0., 0.)),\n",
              "       ((0., 0.), (0., 0., 0.)), ((0., 0.), (0., 0., 0.)),\n",
              "       ((0., 0.), (0., 0., 0.)), ((0., 0.), (0., 0., 0.)),\n",
              "       ((0., 0.), (0., 0., 0.)), ((0., 0.), (0., 0., 0.))],\n",
              "      dtype=[('position', [('x', '<f8'), ('y', '<f8')]), ('color', [('r', '<f8'), ('g', '<f8'), ('b', '<f8')])])"
            ]
          },
          "metadata": {},
          "execution_count": 52
        }
      ],
      "source": [
        "Z = np.zeros(10, [ ('position', [ ('x', float, 1),\n",
        "                                   ('y', float, 1)]),\n",
        "                    ('color',    [ ('r', float, 1),\n",
        "                                   ('g', float, 1),\n",
        "                                   ('b', float, 1)])])\n",
        "Z"
      ]
    },
    {
      "cell_type": "markdown",
      "metadata": {
        "id": "GA7Yc82hMc14"
      },
      "source": [
        "#### 52. Consider a random vector with shape (100,2) representing coordinates, find point by point distances (★★☆) \n",
        "(**hint**: np.atleast\\_2d, T, np.sqrt)"
      ]
    },
    {
      "cell_type": "code",
      "execution_count": null,
      "metadata": {
        "id": "qfQgFsFUMc15",
        "colab": {
          "base_uri": "https://localhost:8080/"
        },
        "outputId": "1c949e13-c529-4f1e-86d3-aa37e62d2215"
      },
      "outputs": [
        {
          "output_type": "stream",
          "name": "stdout",
          "text": [
            "[[0.         0.65866494 0.31200813 0.15698552 0.20919191 0.38139881\n",
            "  0.27789225 0.80998204 0.59247429 0.60648037]\n",
            " [0.65866494 0.         0.78679209 0.63579845 0.64736629 0.28385945\n",
            "  0.87357092 0.90293586 0.29892302 0.93558199]\n",
            " [0.31200813 0.78679209 0.         0.18745395 0.52119991 0.56698664\n",
            "  0.16187616 0.55145053 0.59574638 0.29929419]\n",
            " [0.15698552 0.63579845 0.18745395 0.         0.35592476 0.39106036\n",
            "  0.23784339 0.65299906 0.50073696 0.46270954]\n",
            " [0.20919191 0.64736629 0.52119991 0.35592476 0.         0.36973357\n",
            "  0.46944245 1.00065518 0.67660399 0.81452192]\n",
            " [0.38139881 0.28385945 0.56698664 0.39106036 0.36973357 0.\n",
            "  0.62144301 0.84617422 0.34865852 0.78193308]\n",
            " [0.27789225 0.87357092 0.16187616 0.23784339 0.46944245 0.62144301\n",
            "  0.         0.70541365 0.72245607 0.42455414]\n",
            " [0.80998204 0.90293586 0.55145053 0.65299906 1.00065518 0.84617422\n",
            "  0.70541365 0.         0.60508981 0.31916241]\n",
            " [0.59247429 0.29892302 0.59574638 0.50073696 0.67660399 0.34865852\n",
            "  0.72245607 0.60508981 0.         0.6731894 ]\n",
            " [0.60648037 0.93558199 0.29929419 0.46270954 0.81452192 0.78193308\n",
            "  0.42455414 0.31916241 0.6731894  0.        ]]\n",
            "[[0.         0.55483428 0.34415498 0.43237495 0.32536038 0.26031825\n",
            "  0.01857785 0.70325316 0.31538683 0.30505913]\n",
            " [0.55483428 0.         0.2782182  0.98649087 0.62676128 0.31221269\n",
            "  0.56293679 0.63738099 0.3632736  0.85970969]\n",
            " [0.34415498 0.2782182  0.         0.76535153 0.55083125 0.21975184\n",
            "  0.34497856 0.46785855 0.341164   0.63783553]\n",
            " [0.43237495 0.98649087 0.76535153 0.         0.53613982 0.68274821\n",
            "  0.42619594 1.01467577 0.69815518 0.12790234]\n",
            " [0.32536038 0.62676128 0.55083125 0.53613982 0.         0.34426543\n",
            "  0.34269236 0.99025678 0.26367418 0.44924935]\n",
            " [0.26031825 0.31221269 0.21975184 0.68274821 0.34426543 0.\n",
            "  0.27278922 0.6845278  0.12439163 0.55834794]\n",
            " [0.01857785 0.56293679 0.34497856 0.42619594 0.34269236 0.27278922\n",
            "  0.         0.69290094 0.33206299 0.29843689]\n",
            " [0.70325316 0.63738099 0.46785855 1.01467577 0.99025678 0.6845278\n",
            "  0.69290094 0.         0.8079496  0.90620215]\n",
            " [0.31538683 0.3632736  0.341164   0.69815518 0.26367418 0.12439163\n",
            "  0.33206299 0.8079496  0.         0.5819338 ]\n",
            " [0.30505913 0.85970969 0.63783553 0.12790234 0.44924935 0.55834794\n",
            "  0.29843689 0.90620215 0.5819338  0.        ]]\n"
          ]
        }
      ],
      "source": [
        "Z = np.random.random((10,2))\n",
        "X,Y = np.atleast_2d(Z[:,0]), np.atleast_2d(Z[:,1])\n",
        "D = np.sqrt( (X-X.T)**2 + (Y-Y.T)**2)\n",
        "print(D)\n",
        "\n",
        "# Much faster with scipy\n",
        "import scipy\n",
        "# Thanks Gavin Heverly-Coulson (#issue 1)\n",
        "import scipy.spatial\n",
        "\n",
        "Z = np.random.random((10,2))\n",
        "D = scipy.spatial.distance.cdist(Z,Z)\n",
        "print(D)"
      ]
    },
    {
      "cell_type": "markdown",
      "metadata": {
        "id": "jYIiW-LmMc16"
      },
      "source": [
        "#### 53. How to convert a float (32 bits) array into an integer (32 bits) in place? \n",
        "(**hint**: astype(copy=False))"
      ]
    },
    {
      "cell_type": "code",
      "execution_count": null,
      "metadata": {
        "id": "eLaBZAPOMc17",
        "colab": {
          "base_uri": "https://localhost:8080/"
        },
        "outputId": "23b55778-dace-49af-e7be-02c46b42175d"
      },
      "outputs": [
        {
          "output_type": "execute_result",
          "data": {
            "text/plain": [
              "array([0., 1., 2., 3., 4., 5., 6., 7., 8., 9.], dtype=float32)"
            ]
          },
          "metadata": {},
          "execution_count": 49
        }
      ],
      "source": [
        "Z = np.arange(10, dtype=np.int32)\n",
        "Z = Z.astype(np.float32, copy=False)\n",
        "Z"
      ]
    },
    {
      "cell_type": "markdown",
      "metadata": {
        "id": "_bg_tlE0Mc17"
      },
      "source": [
        "#### 54. How to read the following file? (★★☆) \n",
        "(**hint**: np.genfromtxt)"
      ]
    },
    {
      "cell_type": "markdown",
      "metadata": {
        "id": "mzYmrN_bMc17"
      },
      "source": [
        "```\n",
        "1, 2, 3, 4, 5\n",
        "6,  ,  , 7, 8\n",
        " ,  , 9,10,11\n",
        "```"
      ]
    },
    {
      "cell_type": "code",
      "source": [
        "from io import StringIO\n",
        "\n",
        "# Fake file\n",
        "s = StringIO('''1, 2, 3, 4, 5\n",
        "                6,  ,  , 7, 8\n",
        "                 ,  , 9,10,11\n",
        "''')\n",
        "Z = np.genfromtxt(s, delimiter=\",\", dtype=np.int)\n",
        "print(Z)"
      ],
      "metadata": {
        "colab": {
          "base_uri": "https://localhost:8080/"
        },
        "id": "xFeVPHp7phPE",
        "outputId": "b4dea98a-91ab-4945-9847-980543a23f92"
      },
      "execution_count": null,
      "outputs": [
        {
          "output_type": "stream",
          "name": "stdout",
          "text": [
            "[[ 1  2  3  4  5]\n",
            " [ 6 -1 -1  7  8]\n",
            " [-1 -1  9 10 11]]\n"
          ]
        },
        {
          "output_type": "stream",
          "name": "stderr",
          "text": [
            "/usr/local/lib/python3.7/dist-packages/ipykernel_launcher.py:8: DeprecationWarning: `np.int` is a deprecated alias for the builtin `int`. To silence this warning, use `int` by itself. Doing this will not modify any behavior and is safe. When replacing `np.int`, you may wish to use e.g. `np.int64` or `np.int32` to specify the precision. If you wish to review your current use, check the release note link for additional information.\n",
            "Deprecated in NumPy 1.20; for more details and guidance: https://numpy.org/devdocs/release/1.20.0-notes.html#deprecations\n",
            "  \n"
          ]
        }
      ]
    },
    {
      "cell_type": "markdown",
      "metadata": {
        "id": "nTF8Yp1pMc17"
      },
      "source": [
        "#### 55. What is the equivalent of enumerate for numpy arrays? (★★☆) \n",
        "(**hint**: np.ndenumerate, np.ndindex)"
      ]
    },
    {
      "cell_type": "code",
      "source": [
        "Z = np.arange(9).reshape(3,3)\n",
        "for index, value in np.ndenumerate(Z):\n",
        "    print(index, value)\n",
        "for index in np.ndindex(Z.shape):\n",
        "    print(index, Z[index])"
      ],
      "metadata": {
        "colab": {
          "base_uri": "https://localhost:8080/"
        },
        "id": "viv32L0Hpwnc",
        "outputId": "35cc0cde-f490-48fa-9ca0-559d1392f822"
      },
      "execution_count": null,
      "outputs": [
        {
          "output_type": "stream",
          "name": "stdout",
          "text": [
            "(0, 0) 0\n",
            "(0, 1) 1\n",
            "(0, 2) 2\n",
            "(1, 0) 3\n",
            "(1, 1) 4\n",
            "(1, 2) 5\n",
            "(2, 0) 6\n",
            "(2, 1) 7\n",
            "(2, 2) 8\n",
            "(0, 0) 0\n",
            "(0, 1) 1\n",
            "(0, 2) 2\n",
            "(1, 0) 3\n",
            "(1, 1) 4\n",
            "(1, 2) 5\n",
            "(2, 0) 6\n",
            "(2, 1) 7\n",
            "(2, 2) 8\n"
          ]
        }
      ]
    },
    {
      "cell_type": "markdown",
      "metadata": {
        "id": "VAV4AuMtMc18"
      },
      "source": [
        "#### 56. Generate a generic 2D Gaussian-like array (★★☆) \n",
        "(**hint**: np.meshgrid, np.exp)"
      ]
    },
    {
      "cell_type": "code",
      "execution_count": null,
      "metadata": {
        "id": "0Zqkb36HMc18",
        "colab": {
          "base_uri": "https://localhost:8080/"
        },
        "outputId": "26f1846e-d541-4dfc-be38-da220aef96aa"
      },
      "outputs": [
        {
          "output_type": "stream",
          "name": "stdout",
          "text": [
            "[[0.36787944 0.44822088 0.51979489 0.57375342 0.60279818 0.60279818\n",
            "  0.57375342 0.51979489 0.44822088 0.36787944]\n",
            " [0.44822088 0.54610814 0.63331324 0.69905581 0.73444367 0.73444367\n",
            "  0.69905581 0.63331324 0.54610814 0.44822088]\n",
            " [0.51979489 0.63331324 0.73444367 0.81068432 0.85172308 0.85172308\n",
            "  0.81068432 0.73444367 0.63331324 0.51979489]\n",
            " [0.57375342 0.69905581 0.81068432 0.89483932 0.9401382  0.9401382\n",
            "  0.89483932 0.81068432 0.69905581 0.57375342]\n",
            " [0.60279818 0.73444367 0.85172308 0.9401382  0.98773022 0.98773022\n",
            "  0.9401382  0.85172308 0.73444367 0.60279818]\n",
            " [0.60279818 0.73444367 0.85172308 0.9401382  0.98773022 0.98773022\n",
            "  0.9401382  0.85172308 0.73444367 0.60279818]\n",
            " [0.57375342 0.69905581 0.81068432 0.89483932 0.9401382  0.9401382\n",
            "  0.89483932 0.81068432 0.69905581 0.57375342]\n",
            " [0.51979489 0.63331324 0.73444367 0.81068432 0.85172308 0.85172308\n",
            "  0.81068432 0.73444367 0.63331324 0.51979489]\n",
            " [0.44822088 0.54610814 0.63331324 0.69905581 0.73444367 0.73444367\n",
            "  0.69905581 0.63331324 0.54610814 0.44822088]\n",
            " [0.36787944 0.44822088 0.51979489 0.57375342 0.60279818 0.60279818\n",
            "  0.57375342 0.51979489 0.44822088 0.36787944]]\n"
          ]
        }
      ],
      "source": [
        "X, Y = np.meshgrid(np.linspace(-1,1,10), np.linspace(-1,1,10))\n",
        "D = np.sqrt(X*X+Y*Y)\n",
        "sigma, mu = 1.0, 0.0\n",
        "G = np.exp(-( (D-mu)**2 / ( 2.0 * sigma**2 ) ) )\n",
        "print(G)"
      ]
    },
    {
      "cell_type": "markdown",
      "metadata": {
        "id": "aTehPXilMc18"
      },
      "source": [
        "#### 57. How to randomly place p elements in a 2D array? (★★☆) \n",
        "(**hint**: np.put, np.random.choice)"
      ]
    },
    {
      "cell_type": "code",
      "execution_count": null,
      "metadata": {
        "id": "VqJNIOHGMc18",
        "colab": {
          "base_uri": "https://localhost:8080/"
        },
        "outputId": "ffe1f816-f904-4f77-baa0-bd0af36e2cb3"
      },
      "outputs": [
        {
          "output_type": "stream",
          "name": "stdout",
          "text": [
            "[[1. 0. 0. 0. 0. 0. 0. 0. 0. 0.]\n",
            " [0. 0. 0. 0. 0. 0. 0. 0. 0. 0.]\n",
            " [0. 0. 0. 0. 0. 0. 0. 0. 0. 0.]\n",
            " [0. 0. 0. 0. 0. 0. 0. 0. 0. 0.]\n",
            " [0. 0. 0. 0. 0. 0. 0. 0. 0. 0.]\n",
            " [0. 0. 0. 0. 0. 0. 0. 0. 0. 0.]\n",
            " [0. 0. 0. 0. 0. 0. 0. 0. 0. 0.]\n",
            " [0. 0. 0. 0. 0. 0. 0. 0. 0. 0.]\n",
            " [0. 0. 0. 0. 0. 0. 1. 0. 0. 0.]\n",
            " [0. 0. 0. 0. 0. 0. 1. 0. 0. 0.]]\n"
          ]
        }
      ],
      "source": [
        "n = 10\n",
        "p = 3\n",
        "Z = np.zeros((n,n))\n",
        "np.put(Z, np.random.choice(range(n*n), p, replace=False),1)\n",
        "print (Z)"
      ]
    },
    {
      "cell_type": "markdown",
      "metadata": {
        "id": "HpbxbP0jMc18"
      },
      "source": [
        "#### 58. Subtract the mean of each row of a matrix (★★☆) \n",
        "(**hint**: mean(axis=,keepdims=))"
      ]
    },
    {
      "cell_type": "code",
      "execution_count": null,
      "metadata": {
        "id": "9CSn07_5Mc18",
        "colab": {
          "base_uri": "https://localhost:8080/"
        },
        "outputId": "c7d8bfbc-823c-4726-ad21-1714d3ffea9a"
      },
      "outputs": [
        {
          "output_type": "execute_result",
          "data": {
            "text/plain": [
              "array([[-0.06654975, -0.05636904, -0.1414429 ,  0.26648823, -0.26406486,\n",
              "         0.02873249, -0.22548606,  0.30854904,  0.05507542,  0.09506744],\n",
              "       [ 0.35596578,  0.61157008, -0.34065818,  0.14360606, -0.356469  ,\n",
              "         0.23115061, -0.04105536, -0.3086497 , -0.05788103, -0.23757926],\n",
              "       [-0.40352287,  0.41997345, -0.09398457, -0.05255185,  0.12559875,\n",
              "         0.27790993,  0.02234277,  0.06670018, -0.07956083, -0.28290496],\n",
              "       [-0.28834448, -0.34446079,  0.38576284,  0.36986929, -0.17953921,\n",
              "         0.02359419,  0.2040282 , -0.04585351,  0.30288762, -0.42794416],\n",
              "       [ 0.02699297,  0.22620418, -0.25026646,  0.07617638, -0.15326707,\n",
              "         0.45799528, -0.25975293, -0.39298082,  0.12359819,  0.14530027]])"
            ]
          },
          "metadata": {},
          "execution_count": 44
        }
      ],
      "source": [
        "X = np.random.rand(5, 10)\n",
        "\n",
        "Y = X - X.mean(axis=1, keepdims=True)\n",
        "\n",
        "Y = X - X.mean(axis=1).reshape(-1, 1)\n",
        "Y"
      ]
    },
    {
      "cell_type": "markdown",
      "metadata": {
        "id": "43rPC-SZMc19"
      },
      "source": [
        "#### 59. How to sort an array by the nth column? (★★☆) \n",
        "(**hint**: argsort)"
      ]
    },
    {
      "cell_type": "code",
      "execution_count": null,
      "metadata": {
        "id": "Gjqbr8dbMc19",
        "colab": {
          "base_uri": "https://localhost:8080/"
        },
        "outputId": "59ff0e4e-d39f-4aae-93db-79267c2a2c58"
      },
      "outputs": [
        {
          "output_type": "stream",
          "name": "stdout",
          "text": [
            "[[2 5 8]\n",
            " [3 8 8]\n",
            " [0 7 2]]\n",
            "[[2 5 8]\n",
            " [0 7 2]\n",
            " [3 8 8]]\n"
          ]
        }
      ],
      "source": [
        "Z = np.random.randint(0,10,(3,3))\n",
        "print(Z)\n",
        "print(Z[Z[:,1].argsort()])"
      ]
    },
    {
      "cell_type": "markdown",
      "metadata": {
        "id": "xHTOP8k-Mc19"
      },
      "source": [
        "#### 60. How to tell if a given 2D array has null columns? (★★☆) \n",
        "(**hint**: any, ~)"
      ]
    },
    {
      "cell_type": "code",
      "execution_count": null,
      "metadata": {
        "id": "S06xZclzMc19",
        "colab": {
          "base_uri": "https://localhost:8080/"
        },
        "outputId": "4e1a7650-a295-406f-c4aa-fa889aaba888"
      },
      "outputs": [
        {
          "output_type": "stream",
          "name": "stdout",
          "text": [
            "True\n"
          ]
        }
      ],
      "source": [
        "Z = np.random.randint(0,3,(3,10))\n",
        "print((~Z.any(axis=0)).any())"
      ]
    },
    {
      "cell_type": "markdown",
      "metadata": {
        "id": "ib-JSPcDMc19"
      },
      "source": [
        "#### 61. Find the nearest value from a given value in an array (★★☆) \n",
        "(**hint**: np.abs, argmin, flat)"
      ]
    },
    {
      "cell_type": "code",
      "execution_count": null,
      "metadata": {
        "id": "kVQOZ73PMc19",
        "colab": {
          "base_uri": "https://localhost:8080/"
        },
        "outputId": "9da0ad28-c372-494d-b7b0-399d68ee2554"
      },
      "outputs": [
        {
          "output_type": "stream",
          "name": "stdout",
          "text": [
            "0.5019708363228709\n"
          ]
        }
      ],
      "source": [
        "Z = np.random.uniform(0,1,10)\n",
        "z = 0.5\n",
        "m = Z.flat[np.abs(Z - z).argmin()]\n",
        "print(m)\n"
      ]
    },
    {
      "cell_type": "markdown",
      "metadata": {
        "id": "D8rFOH_fMc19"
      },
      "source": [
        "#### 62. Considering two arrays with shape (1,3) and (3,1), how to compute their sum using an iterator? (★★☆) \n",
        "(**hint**: np.nditer)"
      ]
    },
    {
      "cell_type": "code",
      "execution_count": null,
      "metadata": {
        "id": "msV1xQTIMc1-",
        "colab": {
          "base_uri": "https://localhost:8080/"
        },
        "outputId": "25579ac8-3008-4078-a05b-932bc0aa20b2"
      },
      "outputs": [
        {
          "output_type": "stream",
          "name": "stdout",
          "text": [
            "[[0 1 2]\n",
            " [1 2 3]\n",
            " [2 3 4]]\n"
          ]
        }
      ],
      "source": [
        "A = np.arange(3).reshape(3,1)\n",
        "B = np.arange(3).reshape(1,3)\n",
        "it = np.nditer([A,B,None])\n",
        "for x,y,z in it: z[...] = x + y\n",
        "print(it.operands[2])"
      ]
    },
    {
      "cell_type": "markdown",
      "metadata": {
        "id": "lZMTU8GiMc1-"
      },
      "source": [
        "#### 63. Create an array class that has a name attribute (★★☆) \n",
        "(**hint**: class method)"
      ]
    },
    {
      "cell_type": "code",
      "execution_count": null,
      "metadata": {
        "id": "kwl0X-BPMc1-",
        "colab": {
          "base_uri": "https://localhost:8080/"
        },
        "outputId": "b5614884-5602-497a-b083-0b5145110875"
      },
      "outputs": [
        {
          "output_type": "stream",
          "name": "stdout",
          "text": [
            "range_10\n"
          ]
        }
      ],
      "source": [
        "class NamedArray(np.ndarray):\n",
        "    def __new__(cls, array, name=\"no name\"):\n",
        "        obj = np.asarray(array).view(cls)\n",
        "        obj.name = name\n",
        "        return obj\n",
        "    def __array_finalize__(self, obj):\n",
        "        if obj is None: return\n",
        "        self.name = getattr(obj, 'name', \"no name\")\n",
        "\n",
        "Z = NamedArray(np.arange(10), \"range_10\")\n",
        "print (Z.name)"
      ]
    },
    {
      "cell_type": "markdown",
      "metadata": {
        "id": "ZIiODpwwMc1-"
      },
      "source": [
        "#### 64. Consider a given vector, how to add 1 to each element indexed by a second vector (be careful with repeated indices)? (★★★) \n",
        "(**hint**: np.bincount | np.add.at)"
      ]
    },
    {
      "cell_type": "code",
      "execution_count": null,
      "metadata": {
        "id": "qUrRiVEuMc1-",
        "colab": {
          "base_uri": "https://localhost:8080/"
        },
        "outputId": "3b354b2a-e7a0-493b-ab3b-e4911198c5fe"
      },
      "outputs": [
        {
          "output_type": "stream",
          "name": "stdout",
          "text": [
            "[3. 3. 3. 4. 2. 2. 4. 4. 3. 2.]\n"
          ]
        }
      ],
      "source": [
        "Z = np.ones(10)\n",
        "I = np.random.randint(0,len(Z),20)\n",
        "Z += np.bincount(I, minlength=len(Z))\n",
        "print(Z)"
      ]
    },
    {
      "cell_type": "markdown",
      "metadata": {
        "id": "TfdMoeIUMc1-"
      },
      "source": [
        "#### 65. How to accumulate elements of a vector (X) to an array (F) based on an index list (I)? (★★★) \n",
        "(**hint**: np.bincount)"
      ]
    },
    {
      "cell_type": "code",
      "execution_count": null,
      "metadata": {
        "id": "_aS32btOMc1-",
        "colab": {
          "base_uri": "https://localhost:8080/"
        },
        "outputId": "4a223e9d-edf8-4106-e903-fc6dcdeb14bf"
      },
      "outputs": [
        {
          "output_type": "stream",
          "name": "stdout",
          "text": [
            "[0. 7. 0. 6. 5. 0. 0. 0. 0. 3.]\n"
          ]
        }
      ],
      "source": [
        "X = [1,2,3,4,5,6]\n",
        "I = [1,3,9,3,4,1]\n",
        "F = np.bincount(I,X)\n",
        "print(F)"
      ]
    },
    {
      "cell_type": "markdown",
      "metadata": {
        "id": "c19_Qv-yMc1-"
      },
      "source": [
        "#### 66. Considering a (w,h,3) image of (dtype=ubyte), compute the number of unique colors (★★★) \n",
        "(**hint**: np.unique)"
      ]
    },
    {
      "cell_type": "code",
      "execution_count": null,
      "metadata": {
        "id": "JYiiEuEKMc1_",
        "colab": {
          "base_uri": "https://localhost:8080/"
        },
        "outputId": "6511f966-dab0-411b-a05e-7d48970a552a"
      },
      "outputs": [
        {
          "output_type": "stream",
          "name": "stdout",
          "text": [
            "[0 1]\n"
          ]
        }
      ],
      "source": [
        "w,h = 16,16\n",
        "I = np.random.randint(0,2,(h,w,3)).astype(np.ubyte)\n",
        "F = I[...,0]*256*256 + I[...,1]*256 +I[...,2]\n",
        "n = len(np.unique(F))\n",
        "print(np.unique(I))"
      ]
    },
    {
      "cell_type": "markdown",
      "metadata": {
        "id": "QVJg-4O8Mc1_"
      },
      "source": [
        "#### 67. Considering a four dimensions array, how to get sum over the last two axis at once? (★★★) \n",
        "(**hint**: sum(axis=(-2,-1)))"
      ]
    },
    {
      "cell_type": "code",
      "execution_count": null,
      "metadata": {
        "id": "1nQIRQPoMc1_",
        "colab": {
          "base_uri": "https://localhost:8080/"
        },
        "outputId": "95dc2a21-e290-43b0-d7ad-762f6296dfbd"
      },
      "outputs": [
        {
          "output_type": "stream",
          "name": "stdout",
          "text": [
            "[[57 68 75 60]\n",
            " [67 46 55 62]\n",
            " [58 64 46 54]]\n"
          ]
        }
      ],
      "source": [
        "A = np.random.randint(0,10,(3,4,3,4))\n",
        "sum = A.reshape(A.shape[:-2] + (-1,)).sum(axis=-1)\n",
        "print(sum)"
      ]
    },
    {
      "cell_type": "markdown",
      "metadata": {
        "id": "hSy27MCXMc1_"
      },
      "source": [
        "#### 68. Considering a one-dimensional vector D, how to compute means of subsets of D using a vector S of same size describing subset  indices? (★★★) \n",
        "(**hint**: np.bincount)"
      ]
    },
    {
      "cell_type": "code",
      "execution_count": null,
      "metadata": {
        "id": "q0qRBdBqMc1_",
        "colab": {
          "base_uri": "https://localhost:8080/"
        },
        "outputId": "103c13bf-17dd-487e-db1e-4b252cc0a081"
      },
      "outputs": [
        {
          "output_type": "stream",
          "name": "stdout",
          "text": [
            "[0.58913956 0.59551825 0.63833982 0.57838379 0.53543456 0.4611503\n",
            " 0.61116254 0.52250424 0.60299123 0.6092432 ]\n"
          ]
        }
      ],
      "source": [
        "D = np.random.uniform(0,1,100)\n",
        "S = np.random.randint(0,10,100)\n",
        "D_sums = np.bincount(S, weights=D)\n",
        "D_counts = np.bincount(S)\n",
        "D_means = D_sums / D_counts\n",
        "print(D_means)"
      ]
    },
    {
      "cell_type": "markdown",
      "metadata": {
        "id": "QnamxHY1Mc1_"
      },
      "source": [
        "#### 69. How to get the diagonal of a dot product? (★★★) \n",
        "(**hint**: np.diag)"
      ]
    },
    {
      "cell_type": "code",
      "execution_count": null,
      "metadata": {
        "id": "Zqw32GTAMc1_",
        "colab": {
          "base_uri": "https://localhost:8080/"
        },
        "outputId": "e8aa047c-0952-47a4-b2cb-9388f11d4444"
      },
      "outputs": [
        {
          "output_type": "execute_result",
          "data": {
            "text/plain": [
              "array([103,  93,  18])"
            ]
          },
          "metadata": {},
          "execution_count": 31
        }
      ],
      "source": [
        "A = np.random.randint(0,10,(3,3))\n",
        "B= np.random.randint(0,10,(3,3))\n",
        "#Slow version\n",
        "\n",
        "np.diag(np.dot(A, B))\n",
        "\n",
        "# Fast version\n",
        "np.sum(A * B.T, axis=1)\n",
        "\n",
        "# Faster version\n",
        "np.einsum(\"ij,ji->i\", A, B)"
      ]
    },
    {
      "cell_type": "markdown",
      "metadata": {
        "id": "dxNH-zeKMc2A"
      },
      "source": [
        "#### 70. Consider the vector \\[1, 2, 3, 4, 5\\], how to build a new vector with 3 consecutive zeros interleaved between each value? (★★★) \n",
        "(**hint**: array\\[::4\\])"
      ]
    },
    {
      "cell_type": "code",
      "execution_count": null,
      "metadata": {
        "id": "8XhEH1aVMc2A",
        "colab": {
          "base_uri": "https://localhost:8080/"
        },
        "outputId": "c6f20f49-cd70-4ea7-c33f-f6409190f429"
      },
      "outputs": [
        {
          "output_type": "stream",
          "name": "stdout",
          "text": [
            "[1. 0. 0. 0. 2. 0. 0. 0. 3. 0. 0. 0. 4. 0. 0. 0. 5.]\n"
          ]
        }
      ],
      "source": [
        "Z = np.array([1,2,3,4,5])\n",
        "nz = 3\n",
        "Z0 = np.zeros(len(Z) + (len(Z)-1)*(nz))\n",
        "Z0[::nz+1] = Z\n",
        "print(Z0)"
      ]
    },
    {
      "cell_type": "markdown",
      "metadata": {
        "id": "kJZRL57GMc2A"
      },
      "source": [
        "#### 71. Consider an array of dimension (5,5,3), how to mulitply it by an array with dimensions (5,5)? (★★★) \n",
        "(**hint**: array\\[:, :, None\\])"
      ]
    },
    {
      "cell_type": "code",
      "execution_count": null,
      "metadata": {
        "collapsed": true,
        "id": "0fR0p6AUMc2A",
        "colab": {
          "base_uri": "https://localhost:8080/"
        },
        "outputId": "07ed7f38-89ac-48d0-ade4-2b18f15984c9"
      },
      "outputs": [
        {
          "output_type": "stream",
          "name": "stdout",
          "text": [
            "[[[2. 2. 2.]\n",
            "  [2. 2. 2.]\n",
            "  [2. 2. 2.]\n",
            "  [2. 2. 2.]\n",
            "  [2. 2. 2.]]\n",
            "\n",
            " [[2. 2. 2.]\n",
            "  [2. 2. 2.]\n",
            "  [2. 2. 2.]\n",
            "  [2. 2. 2.]\n",
            "  [2. 2. 2.]]\n",
            "\n",
            " [[2. 2. 2.]\n",
            "  [2. 2. 2.]\n",
            "  [2. 2. 2.]\n",
            "  [2. 2. 2.]\n",
            "  [2. 2. 2.]]\n",
            "\n",
            " [[2. 2. 2.]\n",
            "  [2. 2. 2.]\n",
            "  [2. 2. 2.]\n",
            "  [2. 2. 2.]\n",
            "  [2. 2. 2.]]\n",
            "\n",
            " [[2. 2. 2.]\n",
            "  [2. 2. 2.]\n",
            "  [2. 2. 2.]\n",
            "  [2. 2. 2.]\n",
            "  [2. 2. 2.]]]\n"
          ]
        }
      ],
      "source": [
        "A = np.ones((5,5,3))\n",
        "B = 2*np.ones((5,5))\n",
        "print(A * B[:,:,None])"
      ]
    },
    {
      "cell_type": "markdown",
      "metadata": {
        "id": "IdssifB1Mc2A"
      },
      "source": [
        "#### 72. How to swap two rows of an array? (★★★) \n",
        "(**hint**: array\\[\\[\\]\\] = array\\[\\[\\]\\])"
      ]
    },
    {
      "cell_type": "code",
      "execution_count": null,
      "metadata": {
        "id": "SQvfxgO9Mc2A",
        "colab": {
          "base_uri": "https://localhost:8080/"
        },
        "outputId": "eeaed2dd-2191-41fe-d305-134d6d007e10"
      },
      "outputs": [
        {
          "output_type": "stream",
          "name": "stdout",
          "text": [
            "[[ 5  6  7  8  9]\n",
            " [ 0  1  2  3  4]\n",
            " [10 11 12 13 14]\n",
            " [15 16 17 18 19]\n",
            " [20 21 22 23 24]]\n"
          ]
        }
      ],
      "source": [
        "A = np.arange(25).reshape(5,5)\n",
        "A[[0,1]] = A[[1,0]]\n",
        "print(A)\n"
      ]
    },
    {
      "cell_type": "markdown",
      "metadata": {
        "id": "0hqph8l7Mc2B"
      },
      "source": [
        "#### 73. Consider a set of 10 triplets describing 10 triangles (with shared vertices), find the set of unique line segments composing all the  triangles (★★★) \n",
        "(**hint**: repeat, np.roll, np.sort, view, np.unique)"
      ]
    },
    {
      "cell_type": "code",
      "execution_count": null,
      "metadata": {
        "id": "kzujDjz6Mc2B",
        "colab": {
          "base_uri": "https://localhost:8080/"
        },
        "outputId": "9e32c3cc-c7ab-4b08-8f8e-d6904e7a6cb9"
      },
      "outputs": [
        {
          "output_type": "stream",
          "name": "stdout",
          "text": [
            "[( 2, 38) ( 2, 76) (25, 57) (25, 99) (28, 31) (28, 43) (31, 43) (37, 47)\n",
            " (37, 51) (38, 76) (40, 60) (40, 65) (47, 51) (47, 55) (47, 60) (47, 66)\n",
            " (47, 87) (55, 60) (56, 81) (56, 91) (56, 94) (56, 97) (57, 99) (60, 65)\n",
            " (66, 87) (78, 86) (78, 92) (81, 97) (86, 92) (91, 94)]\n"
          ]
        }
      ],
      "source": [
        "faces = np.random.randint(0,100,(10,3))\n",
        "F = np.roll(faces.repeat(2,axis=1),-1,axis=1)\n",
        "F = F.reshape(len(F)*3,2)\n",
        "F = np.sort(F,axis=1)\n",
        "G = F.view( dtype=[('p0',F.dtype),('p1',F.dtype)] )\n",
        "G = np.unique(G)\n",
        "print(G)"
      ]
    },
    {
      "cell_type": "markdown",
      "metadata": {
        "id": "-LL4ovqwMc2B"
      },
      "source": [
        "#### 74. Given an array C that is a bincount, how to produce an array A such that np.bincount(A) == C? (★★★) \n",
        "(**hint**: np.repeat)"
      ]
    },
    {
      "cell_type": "code",
      "execution_count": null,
      "metadata": {
        "id": "KQf4lKFdMc2C",
        "colab": {
          "base_uri": "https://localhost:8080/"
        },
        "outputId": "4f2877b5-9fd6-4d82-d0d9-f3b94f0e621a"
      },
      "outputs": [
        {
          "output_type": "stream",
          "name": "stdout",
          "text": [
            "[1 1 2 3 4 4 6]\n"
          ]
        }
      ],
      "source": [
        "C = np.bincount([1,1,2,3,4,4,6])\n",
        "A = np.repeat(np.arange(len(C)), C)\n",
        "print(A)"
      ]
    },
    {
      "cell_type": "markdown",
      "metadata": {
        "id": "OJGV6H5LMc2C"
      },
      "source": [
        "#### 75. How to compute averages using a sliding window over an array? (★★★) \n",
        "(**hint**: np.cumsum)"
      ]
    },
    {
      "cell_type": "code",
      "execution_count": null,
      "metadata": {
        "id": "4c9UQtYZMc2D",
        "colab": {
          "base_uri": "https://localhost:8080/"
        },
        "outputId": "d16d35b7-9b11-4f26-9615-a8504446fa1d"
      },
      "outputs": [
        {
          "output_type": "stream",
          "name": "stdout",
          "text": [
            "[ 1.  2.  3.  4.  5.  6.  7.  8.  9. 10. 11. 12. 13. 14. 15. 16. 17. 18.]\n"
          ]
        }
      ],
      "source": [
        "def moving_average(a, n=3) :\n",
        "    ret = np.cumsum(a, dtype=float)\n",
        "    ret[n:] = ret[n:] - ret[:-n]\n",
        "    return ret[n - 1:] / n\n",
        "Z = np.arange(20)\n",
        "print(moving_average(Z, n=3))"
      ]
    },
    {
      "cell_type": "markdown",
      "metadata": {
        "id": "Lx-LNl41Mc2D"
      },
      "source": [
        "#### 76. Consider a one-dimensional array Z, build a two-dimensional array whose first row is (Z\\[0\\],Z\\[1\\],Z\\[2\\]) and each subsequent row is  shifted by 1 (last row should be (Z\\[-3\\],Z\\[-2\\],Z\\[-1\\]) (★★★) \n",
        "(**hint**: from numpy.lib import stride_tricks)"
      ]
    },
    {
      "cell_type": "code",
      "execution_count": null,
      "metadata": {
        "id": "Gn5Ng-ddMc2D",
        "colab": {
          "base_uri": "https://localhost:8080/"
        },
        "outputId": "c81c878b-98be-4ede-e464-6145059bf9a8"
      },
      "outputs": [
        {
          "output_type": "stream",
          "name": "stdout",
          "text": [
            "[[0 1 2]\n",
            " [1 2 3]\n",
            " [2 3 4]\n",
            " [3 4 5]\n",
            " [4 5 6]\n",
            " [5 6 7]\n",
            " [6 7 8]\n",
            " [7 8 9]]\n"
          ]
        }
      ],
      "source": [
        "def rolling(a, window):\n",
        "    shape = (a.size - window + 1, window)\n",
        "    strides = (a.itemsize, a.itemsize)\n",
        "    return np.lib.stride_tricks.as_strided(a, shape=shape, strides=strides)\n",
        "Z = rolling(np.arange(10), 3)\n",
        "print(Z)"
      ]
    },
    {
      "cell_type": "markdown",
      "metadata": {
        "id": "K6rhCpksMc2E"
      },
      "source": [
        "#### 77. How to negate a boolean, or to change the sign of a float inplace? (★★★) \n",
        "(**hint**: np.logical_not, np.negative)"
      ]
    },
    {
      "cell_type": "code",
      "execution_count": null,
      "metadata": {
        "id": "01a6EJ06Mc2E",
        "colab": {
          "base_uri": "https://localhost:8080/"
        },
        "outputId": "6aac6feb-c2b2-4b99-87f8-197433f6c6b3"
      },
      "outputs": [
        {
          "output_type": "stream",
          "name": "stdout",
          "text": [
            "original: \n",
            "[1 1 1 1 0 1 0 0 0 0 1 0 1 0 0 1 0 0 1 0 0 0 1 1 1 1 1 1 1 0 0 1 0 1 0 1 0\n",
            " 1 1 1 1 1 0 1 0 1 1 0 1 1 0 0 0 0 0 1 1 0 1 1 0 1 0 0 1 1 1 1 0 1 0 0 1 0\n",
            " 0 1 1 0 1 0 1 1 0 1 0 1 0 1 1 1 1 1 0 0 0 1 0 1 1 1]\n",
            "Negating a boolean: \n",
            "[0 0 0 0 1 0 1 1 1 1 0 1 0 1 1 0 1 1 0 1 1 1 0 0 0 0 0 0 0 1 1 0 1 0 1 0 1\n",
            " 0 0 0 0 0 1 0 1 0 0 1 0 0 1 1 1 1 1 0 0 1 0 0 1 0 1 1 0 0 0 0 1 0 1 1 0 1\n",
            " 1 0 0 1 0 1 0 0 1 0 1 0 1 0 0 0 0 0 1 1 1 0 1 0 0 0]\n",
            "original: \n",
            "[ 0.12084063 -0.61986491  0.56128302  0.16590337 -0.849471   -0.08962077\n",
            "  0.70453535 -0.61575299 -0.07848529 -0.43227731]\n",
            "Change the sign of float inplace: \n",
            "[-0.12084063  0.61986491 -0.56128302 -0.16590337  0.849471    0.08962077\n",
            " -0.70453535  0.61575299  0.07848529  0.43227731]\n"
          ]
        }
      ],
      "source": [
        "Z = np.random.randint(0,2,100)\n",
        "print ('original: ')\n",
        "print (Z)\n",
        "print('Negating a boolean: ')\n",
        "print(np.logical_not(Z, out=Z))\n",
        "\n",
        "\n",
        "Z = np.random.uniform(-1.0,1.0,10)\n",
        "print ('original: ')\n",
        "print (Z)\n",
        "print ('Change the sign of float inplace: ')\n",
        "print(np.negative(Z, out=Z))"
      ]
    },
    {
      "cell_type": "markdown",
      "metadata": {
        "id": "Z4OYC3F7Mc2E"
      },
      "source": [
        "#### 78. Consider 2 sets of points P0,P1 describing lines (2d) and a point p, how to compute distance from p to each line i  (P0\\[i\\],P1\\[i\\])? (★★★)"
      ]
    },
    {
      "cell_type": "code",
      "execution_count": null,
      "metadata": {
        "id": "B1mBvgG2Mc2E",
        "colab": {
          "base_uri": "https://localhost:8080/"
        },
        "outputId": "52a7ee9d-8b28-4f04-ffe6-6667246107cb"
      },
      "outputs": [
        {
          "output_type": "stream",
          "name": "stdout",
          "text": [
            "[ 1.88189651  8.23202977 12.30298008 12.2760325   1.22740426  1.47471698\n",
            " 11.12484993  4.47562615  1.08651569  4.70516332]\n"
          ]
        }
      ],
      "source": [
        "def distance(P0, P1, p):\n",
        "    T = P1 - P0\n",
        "    L = (T**2).sum(axis=1)\n",
        "    U = -((P0[:,0]-p[...,0])*T[:,0] + (P0[:,1]-p[...,1])*T[:,1]) / L\n",
        "    U = U.reshape(len(U),1)\n",
        "    D = P0 + U*T - p\n",
        "    return np.sqrt((D**2).sum(axis=1))\n",
        "\n",
        "P0 = np.random.uniform(-10,10,(10,2))\n",
        "P1 = np.random.uniform(-10,10,(10,2))\n",
        "p  = np.random.uniform(-10,10,( 1,2))\n",
        "print(distance(P0, P1, p))"
      ]
    },
    {
      "cell_type": "markdown",
      "metadata": {
        "id": "pTE0VsPCMc2F"
      },
      "source": [
        "#### 79. Consider 2 sets of points P0,P1 describing lines (2d) and a set of points P, how to compute distance from each point j (P\\[j\\]) to each line i (P0\\[i\\],P1\\[i\\])? (★★★)"
      ]
    },
    {
      "cell_type": "code",
      "execution_count": null,
      "metadata": {
        "id": "f9DvcP2gMc2F",
        "colab": {
          "base_uri": "https://localhost:8080/"
        },
        "outputId": "c154e32b-cdd5-4a6b-807a-ffd79adad10c"
      },
      "outputs": [
        {
          "output_type": "stream",
          "name": "stdout",
          "text": [
            "[ 1.68976548  5.95790474  3.37485458  6.59296745 13.67674816  6.20503901\n",
            "  6.76951557 11.12247726  4.82888147  2.72979686]\n"
          ]
        }
      ],
      "source": [
        "def distance(P0, P1, p):\n",
        "    T = P1 - P0\n",
        "    L = (T**2).sum(axis=1)\n",
        "    U = -((P0[:,0]-p[...,0])*T[:,0] + (P0[:,1]-p[...,1])*T[:,1]) / L\n",
        "    U = U.reshape(len(U),1)\n",
        "    D = P0 + U*T - p\n",
        "    return np.sqrt((D**2).sum(axis=1))\n",
        "\n",
        "P0 = np.random.uniform(-10,10,(10,2))\n",
        "P1 = np.random.uniform(-10,10,(10,2))\n",
        "p  = np.random.uniform(-10,10,( 1,2))\n",
        "print(distance(P0, P1, p))"
      ]
    },
    {
      "cell_type": "markdown",
      "metadata": {
        "id": "JD-bW4HMMc2J"
      },
      "source": [
        "#### 80. Consider an arbitrary array, write a function that extract a subpart with a fixed shape and centered on a given element (pad with a `fill` value when necessary) (★★★) \n",
        "(**hint**: minimum, maximum)"
      ]
    },
    {
      "cell_type": "code",
      "execution_count": null,
      "metadata": {
        "id": "kH_0HNEAMc2J",
        "colab": {
          "base_uri": "https://localhost:8080/"
        },
        "outputId": "d98d6f35-ed92-4728-c71d-3276556c22a4"
      },
      "outputs": [
        {
          "output_type": "stream",
          "name": "stdout",
          "text": [
            "[[8 2 5 1 8 0 9 9 9 2]\n",
            " [3 7 0 4 7 0 8 1 0 5]\n",
            " [1 2 7 4 3 9 5 1 0 0]\n",
            " [8 8 4 1 0 1 3 7 5 9]\n",
            " [3 6 6 2 2 1 4 9 0 3]\n",
            " [8 8 6 3 0 7 9 5 5 3]\n",
            " [8 8 3 0 2 0 9 6 9 1]\n",
            " [1 6 3 0 8 1 3 9 5 5]\n",
            " [3 3 8 5 6 0 0 8 7 5]\n",
            " [0 7 3 4 9 3 6 6 4 2]]\n",
            "[[0 0 0 0 0]\n",
            " [0 8 2 5 1]\n",
            " [0 3 7 0 4]\n",
            " [0 1 2 7 4]\n",
            " [0 8 8 4 1]]\n"
          ]
        },
        {
          "output_type": "stream",
          "name": "stderr",
          "text": [
            "/usr/local/lib/python3.7/dist-packages/ipykernel_launcher.py:23: FutureWarning: Using a non-tuple sequence for multidimensional indexing is deprecated; use `arr[tuple(seq)]` instead of `arr[seq]`. In the future this will be interpreted as an array index, `arr[np.array(seq)]`, which will result either in an error or a different result.\n"
          ]
        }
      ],
      "source": [
        "Z = np.random.randint(0,10,(10,10))\n",
        "shape = (5,5)\n",
        "fill  = 0\n",
        "position = (1,1)\n",
        "\n",
        "R = np.ones(shape, dtype=Z.dtype)*fill\n",
        "P  = np.array(list(position)).astype(int)\n",
        "Rs = np.array(list(R.shape)).astype(int)\n",
        "Zs = np.array(list(Z.shape)).astype(int)\n",
        "\n",
        "R_start = np.zeros((len(shape),)).astype(int)\n",
        "R_stop  = np.array(list(shape)).astype(int)\n",
        "Z_start = (P-Rs//2)\n",
        "Z_stop  = (P+Rs//2)+Rs%2\n",
        "\n",
        "R_start = (R_start - np.minimum(Z_start,0)).tolist()\n",
        "Z_start = (np.maximum(Z_start,0)).tolist()\n",
        "R_stop = np.maximum(R_start, (R_stop - np.maximum(Z_stop-Zs,0))).tolist()\n",
        "Z_stop = (np.minimum(Z_stop,Zs)).tolist()\n",
        "\n",
        "r = [slice(start,stop) for start,stop in zip(R_start,R_stop)]\n",
        "z = [slice(start,stop) for start,stop in zip(Z_start,Z_stop)]\n",
        "R[r] = Z[z]\n",
        "print(Z)\n",
        "print(R)"
      ]
    },
    {
      "cell_type": "markdown",
      "metadata": {
        "id": "S2YwezIGMc2J"
      },
      "source": [
        "#### 81. Consider an array Z = \\[1,2,3,4,5,6,7,8,9,10,11,12,13,14\\], how to generate an array R = \\[\\[1,2,3,4\\], \\[2,3,4,5\\], \\[3,4,5,6\\], ..., \\[11,12,13,14\\]\\]? (★★★) \n",
        "(**hint**: stride\\_tricks.as\\_strided)"
      ]
    },
    {
      "cell_type": "code",
      "execution_count": null,
      "metadata": {
        "id": "Sp5yfXx_Mc2K",
        "colab": {
          "base_uri": "https://localhost:8080/"
        },
        "outputId": "2dd82f17-98b3-4420-9e3b-382fc88bf60e"
      },
      "outputs": [
        {
          "output_type": "stream",
          "name": "stdout",
          "text": [
            "original: \n",
            "[ 1  2  3  4  5  6  7  8  9 10 11 12 13 14]\n",
            "after altering: \n",
            "[[ 1  2  3  4]\n",
            " [ 2  3  4  5]\n",
            " [ 3  4  5  6]\n",
            " [ 4  5  6  7]\n",
            " [ 5  6  7  8]\n",
            " [ 6  7  8  9]\n",
            " [ 7  8  9 10]\n",
            " [ 8  9 10 11]\n",
            " [ 9 10 11 12]\n",
            " [10 11 12 13]\n",
            " [11 12 13 14]]\n"
          ]
        }
      ],
      "source": [
        "Z = np.arange(1,15,dtype=int)\n",
        "\n",
        "def rolling(a, window):\n",
        "    shape = (a.size - window + 1, window)\n",
        "    strides = (a.itemsize, a.itemsize)\n",
        "    return np.lib.stride_tricks.as_strided(a, shape=shape, strides=strides)\n",
        "R = rolling(Z, 4)\n",
        "print ('original: ')\n",
        "print (Z)\n",
        "print ('after altering: ')\n",
        "print(R)"
      ]
    },
    {
      "cell_type": "markdown",
      "metadata": {
        "id": "cgLTp-FKMc2K"
      },
      "source": [
        "#### 82. Compute a matrix rank (★★★) \n",
        "(**hint**: np.linalg.svd) (suggestion: np.linalg.svd)"
      ]
    },
    {
      "cell_type": "code",
      "execution_count": null,
      "metadata": {
        "id": "EUDg4YdeMc2K",
        "colab": {
          "base_uri": "https://localhost:8080/"
        },
        "outputId": "26d5f008-6f9b-41aa-ed77-97161304bc78"
      },
      "outputs": [
        {
          "output_type": "stream",
          "name": "stdout",
          "text": [
            "10\n"
          ]
        }
      ],
      "source": [
        "Z = np.random.uniform(0,1,(10,10))\n",
        "U, S, V = np.linalg.svd(Z) # Singular Value Decomposition\n",
        "rank = np.sum(S > 1e-10)\n",
        "print (rank)"
      ]
    },
    {
      "cell_type": "markdown",
      "metadata": {
        "id": "vbsDu64oMc2K"
      },
      "source": [
        "#### 83. How to find the most frequent value in an array? \n",
        "(**hint**: np.bincount, argmax)"
      ]
    },
    {
      "cell_type": "code",
      "execution_count": null,
      "metadata": {
        "id": "1L4lFgAiMc2K",
        "colab": {
          "base_uri": "https://localhost:8080/"
        },
        "outputId": "42de7741-6605-47b3-d594-735ea8a354b4"
      },
      "outputs": [
        {
          "output_type": "stream",
          "name": "stdout",
          "text": [
            "[4 9 1 6 9 2 6 6 4 6 5 1 1 0 4 6 3 0 6 2 5 4 8 0 4 6 8 2 7 4 5 1 6 4 3 6 2\n",
            " 0 3 9 6 0 1 1 3 8 7 2 6 3]\n",
            "MOST FREQUENT: 6\n"
          ]
        }
      ],
      "source": [
        "Z = np.random.randint(0,10,50)\n",
        "print (Z)\n",
        "print('MOST FREQUENT:', np.bincount(Z).argmax())"
      ]
    },
    {
      "cell_type": "markdown",
      "metadata": {
        "id": "goJIEMo-Mc2K"
      },
      "source": [
        "#### 84. Extract all the contiguous 3x3 blocks from a random 10x10 matrix (★★★) \n",
        "(**hint**: stride\\_tricks.as\\_strided)"
      ]
    },
    {
      "cell_type": "code",
      "execution_count": null,
      "metadata": {
        "id": "01p4TA8wMc2L",
        "colab": {
          "base_uri": "https://localhost:8080/"
        },
        "outputId": "d34389c6-7ed3-4c14-888f-c28285483e2b"
      },
      "outputs": [
        {
          "output_type": "stream",
          "name": "stdout",
          "text": [
            "[[[[1 1 1]\n",
            "   [4 4 3]\n",
            "   [1 3 2]]\n",
            "\n",
            "  [[1 1 4]\n",
            "   [4 3 0]\n",
            "   [3 2 1]]\n",
            "\n",
            "  [[1 4 0]\n",
            "   [3 0 3]\n",
            "   [2 1 2]]\n",
            "\n",
            "  [[4 0 2]\n",
            "   [0 3 1]\n",
            "   [1 2 0]]\n",
            "\n",
            "  [[0 2 1]\n",
            "   [3 1 2]\n",
            "   [2 0 1]]\n",
            "\n",
            "  [[2 1 4]\n",
            "   [1 2 1]\n",
            "   [0 1 2]]\n",
            "\n",
            "  [[1 4 4]\n",
            "   [2 1 0]\n",
            "   [1 2 3]]\n",
            "\n",
            "  [[4 4 2]\n",
            "   [1 0 3]\n",
            "   [2 3 4]]]\n",
            "\n",
            "\n",
            " [[[4 4 3]\n",
            "   [1 3 2]\n",
            "   [0 2 0]]\n",
            "\n",
            "  [[4 3 0]\n",
            "   [3 2 1]\n",
            "   [2 0 1]]\n",
            "\n",
            "  [[3 0 3]\n",
            "   [2 1 2]\n",
            "   [0 1 0]]\n",
            "\n",
            "  [[0 3 1]\n",
            "   [1 2 0]\n",
            "   [1 0 4]]\n",
            "\n",
            "  [[3 1 2]\n",
            "   [2 0 1]\n",
            "   [0 4 1]]\n",
            "\n",
            "  [[1 2 1]\n",
            "   [0 1 2]\n",
            "   [4 1 3]]\n",
            "\n",
            "  [[2 1 0]\n",
            "   [1 2 3]\n",
            "   [1 3 1]]\n",
            "\n",
            "  [[1 0 3]\n",
            "   [2 3 4]\n",
            "   [3 1 0]]]\n",
            "\n",
            "\n",
            " [[[1 3 2]\n",
            "   [0 2 0]\n",
            "   [4 0 3]]\n",
            "\n",
            "  [[3 2 1]\n",
            "   [2 0 1]\n",
            "   [0 3 1]]\n",
            "\n",
            "  [[2 1 2]\n",
            "   [0 1 0]\n",
            "   [3 1 0]]\n",
            "\n",
            "  [[1 2 0]\n",
            "   [1 0 4]\n",
            "   [1 0 4]]\n",
            "\n",
            "  [[2 0 1]\n",
            "   [0 4 1]\n",
            "   [0 4 1]]\n",
            "\n",
            "  [[0 1 2]\n",
            "   [4 1 3]\n",
            "   [4 1 2]]\n",
            "\n",
            "  [[1 2 3]\n",
            "   [1 3 1]\n",
            "   [1 2 4]]\n",
            "\n",
            "  [[2 3 4]\n",
            "   [3 1 0]\n",
            "   [2 4 3]]]\n",
            "\n",
            "\n",
            " [[[0 2 0]\n",
            "   [4 0 3]\n",
            "   [4 1 2]]\n",
            "\n",
            "  [[2 0 1]\n",
            "   [0 3 1]\n",
            "   [1 2 3]]\n",
            "\n",
            "  [[0 1 0]\n",
            "   [3 1 0]\n",
            "   [2 3 0]]\n",
            "\n",
            "  [[1 0 4]\n",
            "   [1 0 4]\n",
            "   [3 0 0]]\n",
            "\n",
            "  [[0 4 1]\n",
            "   [0 4 1]\n",
            "   [0 0 2]]\n",
            "\n",
            "  [[4 1 3]\n",
            "   [4 1 2]\n",
            "   [0 2 3]]\n",
            "\n",
            "  [[1 3 1]\n",
            "   [1 2 4]\n",
            "   [2 3 0]]\n",
            "\n",
            "  [[3 1 0]\n",
            "   [2 4 3]\n",
            "   [3 0 0]]]\n",
            "\n",
            "\n",
            " [[[4 0 3]\n",
            "   [4 1 2]\n",
            "   [0 3 4]]\n",
            "\n",
            "  [[0 3 1]\n",
            "   [1 2 3]\n",
            "   [3 4 2]]\n",
            "\n",
            "  [[3 1 0]\n",
            "   [2 3 0]\n",
            "   [4 2 0]]\n",
            "\n",
            "  [[1 0 4]\n",
            "   [3 0 0]\n",
            "   [2 0 3]]\n",
            "\n",
            "  [[0 4 1]\n",
            "   [0 0 2]\n",
            "   [0 3 0]]\n",
            "\n",
            "  [[4 1 2]\n",
            "   [0 2 3]\n",
            "   [3 0 1]]\n",
            "\n",
            "  [[1 2 4]\n",
            "   [2 3 0]\n",
            "   [0 1 2]]\n",
            "\n",
            "  [[2 4 3]\n",
            "   [3 0 0]\n",
            "   [1 2 1]]]\n",
            "\n",
            "\n",
            " [[[4 1 2]\n",
            "   [0 3 4]\n",
            "   [1 3 1]]\n",
            "\n",
            "  [[1 2 3]\n",
            "   [3 4 2]\n",
            "   [3 1 3]]\n",
            "\n",
            "  [[2 3 0]\n",
            "   [4 2 0]\n",
            "   [1 3 0]]\n",
            "\n",
            "  [[3 0 0]\n",
            "   [2 0 3]\n",
            "   [3 0 2]]\n",
            "\n",
            "  [[0 0 2]\n",
            "   [0 3 0]\n",
            "   [0 2 3]]\n",
            "\n",
            "  [[0 2 3]\n",
            "   [3 0 1]\n",
            "   [2 3 1]]\n",
            "\n",
            "  [[2 3 0]\n",
            "   [0 1 2]\n",
            "   [3 1 0]]\n",
            "\n",
            "  [[3 0 0]\n",
            "   [1 2 1]\n",
            "   [1 0 3]]]\n",
            "\n",
            "\n",
            " [[[0 3 4]\n",
            "   [1 3 1]\n",
            "   [1 0 2]]\n",
            "\n",
            "  [[3 4 2]\n",
            "   [3 1 3]\n",
            "   [0 2 2]]\n",
            "\n",
            "  [[4 2 0]\n",
            "   [1 3 0]\n",
            "   [2 2 4]]\n",
            "\n",
            "  [[2 0 3]\n",
            "   [3 0 2]\n",
            "   [2 4 2]]\n",
            "\n",
            "  [[0 3 0]\n",
            "   [0 2 3]\n",
            "   [4 2 4]]\n",
            "\n",
            "  [[3 0 1]\n",
            "   [2 3 1]\n",
            "   [2 4 4]]\n",
            "\n",
            "  [[0 1 2]\n",
            "   [3 1 0]\n",
            "   [4 4 0]]\n",
            "\n",
            "  [[1 2 1]\n",
            "   [1 0 3]\n",
            "   [4 0 2]]]\n",
            "\n",
            "\n",
            " [[[1 3 1]\n",
            "   [1 0 2]\n",
            "   [2 4 1]]\n",
            "\n",
            "  [[3 1 3]\n",
            "   [0 2 2]\n",
            "   [4 1 3]]\n",
            "\n",
            "  [[1 3 0]\n",
            "   [2 2 4]\n",
            "   [1 3 0]]\n",
            "\n",
            "  [[3 0 2]\n",
            "   [2 4 2]\n",
            "   [3 0 4]]\n",
            "\n",
            "  [[0 2 3]\n",
            "   [4 2 4]\n",
            "   [0 4 2]]\n",
            "\n",
            "  [[2 3 1]\n",
            "   [2 4 4]\n",
            "   [4 2 4]]\n",
            "\n",
            "  [[3 1 0]\n",
            "   [4 4 0]\n",
            "   [2 4 1]]\n",
            "\n",
            "  [[1 0 3]\n",
            "   [4 0 2]\n",
            "   [4 1 2]]]]\n"
          ]
        }
      ],
      "source": [
        "Z = np.random.randint(0,5,(10,10))\n",
        "n = 3\n",
        "i = 1 + (Z.shape[0]-3)\n",
        "j = 1 + (Z.shape[1]-3)\n",
        "C = np.lib.stride_tricks.as_strided(Z, shape=(i, j, n, n), strides=Z.strides + Z.strides)\n",
        "print(C)"
      ]
    },
    {
      "cell_type": "markdown",
      "metadata": {
        "id": "zeKDoeFgMc2L"
      },
      "source": [
        "#### 85. Create a 2D array subclass such that Z\\[i,j\\] == Z\\[j,i\\] (★★★) \n",
        "(**hint**: class method)"
      ]
    },
    {
      "cell_type": "code",
      "source": [
        "class Symetric(np.ndarray):\n",
        "    def __setitem__(self, index, value):\n",
        "        i,j = index\n",
        "        super(Symetric, self).__setitem__((i,j), value)\n",
        "        super(Symetric, self).__setitem__((j,i), value)\n",
        "\n",
        "def symetric(Z):\n",
        "    return np.asarray(Z + Z.T - np.diag(Z.diagonal())).view(Symetric)\n",
        "\n",
        "S = symetric(np.random.randint(0,10,(5,5)))\n",
        "S[2,3] = 42\n",
        "print(S)"
      ],
      "metadata": {
        "id": "fgH6HU_rBHQy",
        "colab": {
          "base_uri": "https://localhost:8080/"
        },
        "outputId": "e71a9502-6a2b-4100-8c39-781451994a5d"
      },
      "execution_count": null,
      "outputs": [
        {
          "output_type": "stream",
          "name": "stdout",
          "text": [
            "[[ 9  7  5  0  8]\n",
            " [ 7  6  8  5  6]\n",
            " [ 5  8  9 42  9]\n",
            " [ 0  5 42  8  6]\n",
            " [ 8  6  9  6  9]]\n"
          ]
        }
      ]
    },
    {
      "cell_type": "markdown",
      "metadata": {
        "id": "zsiz-0kqMc2L"
      },
      "source": [
        "#### 86. Consider a set of p matrices wich shape (n,n) and a set of p vectors with shape (n,1). How to compute the sum of of the p matrix products at once? (result has shape (n,1)) (★★★) \n",
        "(**hint**: np.tensordot)"
      ]
    },
    {
      "cell_type": "code",
      "execution_count": null,
      "metadata": {
        "id": "oB7DZieQMc2L",
        "colab": {
          "base_uri": "https://localhost:8080/"
        },
        "outputId": "95cdf967-16c8-4b97-8223-20e37c80410a"
      },
      "outputs": [
        {
          "output_type": "stream",
          "name": "stdout",
          "text": [
            "[[200.]\n",
            " [200.]\n",
            " [200.]\n",
            " [200.]\n",
            " [200.]\n",
            " [200.]\n",
            " [200.]\n",
            " [200.]\n",
            " [200.]\n",
            " [200.]\n",
            " [200.]\n",
            " [200.]\n",
            " [200.]\n",
            " [200.]\n",
            " [200.]\n",
            " [200.]\n",
            " [200.]\n",
            " [200.]\n",
            " [200.]\n",
            " [200.]]\n"
          ]
        }
      ],
      "source": [
        "p, n = 10, 20\n",
        "M = np.ones((p,n,n))\n",
        "V = np.ones((p,n,1))\n",
        "S = np.tensordot(M, V, axes=[[0, 2], [0, 1]])\n",
        "print(S)"
      ]
    },
    {
      "cell_type": "markdown",
      "metadata": {
        "id": "RzeUg9gbMc2L"
      },
      "source": [
        "#### 87. Consider a 16x16 array, how to get the block-sum (block size is 4x4)? (★★★) \n",
        "(**hint**: np.add.reduceat)"
      ]
    },
    {
      "cell_type": "code",
      "execution_count": null,
      "metadata": {
        "id": "EO51k9jTMc2L",
        "colab": {
          "base_uri": "https://localhost:8080/"
        },
        "outputId": "47d99679-565f-409d-bacd-603f095eb53d"
      },
      "outputs": [
        {
          "output_type": "stream",
          "name": "stdout",
          "text": [
            "[[1. 1. 1. 1. 1. 1. 1. 1. 1. 1. 1. 1. 1. 1. 1. 1.]\n",
            " [1. 1. 1. 1. 1. 1. 1. 1. 1. 1. 1. 1. 1. 1. 1. 1.]\n",
            " [1. 1. 1. 1. 1. 1. 1. 1. 1. 1. 1. 1. 1. 1. 1. 1.]\n",
            " [1. 1. 1. 1. 1. 1. 1. 1. 1. 1. 1. 1. 1. 1. 1. 1.]\n",
            " [1. 1. 1. 1. 1. 1. 1. 1. 1. 1. 1. 1. 1. 1. 1. 1.]\n",
            " [1. 1. 1. 1. 1. 1. 1. 1. 1. 1. 1. 1. 1. 1. 1. 1.]\n",
            " [1. 1. 1. 1. 1. 1. 1. 1. 1. 1. 1. 1. 1. 1. 1. 1.]\n",
            " [1. 1. 1. 1. 1. 1. 1. 1. 1. 1. 1. 1. 1. 1. 1. 1.]\n",
            " [1. 1. 1. 1. 1. 1. 1. 1. 1. 1. 1. 1. 1. 1. 1. 1.]\n",
            " [1. 1. 1. 1. 1. 1. 1. 1. 1. 1. 1. 1. 1. 1. 1. 1.]\n",
            " [1. 1. 1. 1. 1. 1. 1. 1. 1. 1. 1. 1. 1. 1. 1. 1.]\n",
            " [1. 1. 1. 1. 1. 1. 1. 1. 1. 1. 1. 1. 1. 1. 1. 1.]\n",
            " [1. 1. 1. 1. 1. 1. 1. 1. 1. 1. 1. 1. 1. 1. 1. 1.]\n",
            " [1. 1. 1. 1. 1. 1. 1. 1. 1. 1. 1. 1. 1. 1. 1. 1.]\n",
            " [1. 1. 1. 1. 1. 1. 1. 1. 1. 1. 1. 1. 1. 1. 1. 1.]\n",
            " [1. 1. 1. 1. 1. 1. 1. 1. 1. 1. 1. 1. 1. 1. 1. 1.]]\n",
            "[[16. 16. 16. 16.]\n",
            " [16. 16. 16. 16.]\n",
            " [16. 16. 16. 16.]\n",
            " [16. 16. 16. 16.]]\n"
          ]
        }
      ],
      "source": [
        "Z = np.ones((16,16))\n",
        "k = 4\n",
        "S = np.add.reduceat(np.add.reduceat(Z, np.arange(0, Z.shape[0], k), axis=0),\n",
        "                                       np.arange(0, Z.shape[1], k), axis=1)\n",
        "#INPUTARRAY\n",
        "print (Z)\n",
        "#SUM\n",
        "print (S)"
      ]
    },
    {
      "cell_type": "markdown",
      "metadata": {
        "id": "6juTlRW6Mc2L"
      },
      "source": [
        "#### 88. How to implement the Game of Life using numpy arrays? (★★★)"
      ]
    },
    {
      "cell_type": "code",
      "execution_count": null,
      "metadata": {
        "id": "THNuxGFuMc2L",
        "colab": {
          "base_uri": "https://localhost:8080/"
        },
        "outputId": "de3f3f19-603b-4054-8303-0a99d7f82116"
      },
      "outputs": [
        {
          "output_type": "stream",
          "name": "stdout",
          "text": [
            "[[0 0 0 ... 0 0 0]\n",
            " [0 0 0 ... 1 0 0]\n",
            " [0 0 0 ... 0 1 0]\n",
            " ...\n",
            " [0 0 0 ... 1 1 0]\n",
            " [0 0 0 ... 0 0 0]\n",
            " [0 0 0 ... 0 0 0]]\n"
          ]
        }
      ],
      "source": [
        "def iterate(Z):\n",
        "    # Count neighbours\n",
        "    N = (Z[0:-2,0:-2] + Z[0:-2,1:-1] + Z[0:-2,2:] +\n",
        "         Z[1:-1,0:-2]                + Z[1:-1,2:] +\n",
        "         Z[2:  ,0:-2] + Z[2:  ,1:-1] + Z[2:  ,2:])\n",
        "\n",
        "    # Apply rules\n",
        "    birth = (N==3) & (Z[1:-1,1:-1]==0)\n",
        "    survive = ((N==2) | (N==3)) & (Z[1:-1,1:-1]==1)\n",
        "    Z[...] = 0\n",
        "    Z[1:-1,1:-1][birth | survive] = 1\n",
        "    return Z\n",
        "\n",
        "Z = np.random.randint(0,2,(50,50))\n",
        "for i in range(100): Z = iterate(Z)\n",
        "print(Z)"
      ]
    },
    {
      "cell_type": "markdown",
      "metadata": {
        "id": "q3hlDrRvMc2L"
      },
      "source": [
        "#### 89. How to get the n largest values of an array (★★★) \n",
        "(**hint**: np.argsort | np.argpartition)"
      ]
    },
    {
      "cell_type": "code",
      "execution_count": null,
      "metadata": {
        "id": "FpUfy2InMc2M",
        "colab": {
          "base_uri": "https://localhost:8080/"
        },
        "outputId": "6b4d591a-d514-4c21-bbcb-ce772f2fa805"
      },
      "outputs": [
        {
          "output_type": "stream",
          "name": "stdout",
          "text": [
            "[9993 9994 9995 9996 9997 9998 9999]\n",
            "[9999 9998 9994 9997 9996 9995 9993]\n"
          ]
        }
      ],
      "source": [
        "Z = np.arange(10000)\n",
        "np.random.shuffle(Z)\n",
        "n = 7\n",
        "\n",
        "\n",
        "print (Z[np.argsort(Z)[-n:]])\n",
        "\n",
        "\n",
        "print (Z[np.argpartition(-Z,n)[:n]])"
      ]
    },
    {
      "cell_type": "markdown",
      "metadata": {
        "id": "2JcsKcldMc2M"
      },
      "source": [
        "#### 90. Given an arbitrary number of vectors, build the cartesian product (every combinations of every item) (★★★) \n",
        "(**hint**: np.indices)"
      ]
    },
    {
      "cell_type": "code",
      "execution_count": null,
      "metadata": {
        "scrolled": true,
        "id": "nzZmgzvvMc2M",
        "colab": {
          "base_uri": "https://localhost:8080/"
        },
        "outputId": "cd18fbed-4bbd-4627-d044-ab08fd6c46ab"
      },
      "outputs": [
        {
          "output_type": "stream",
          "name": "stdout",
          "text": [
            "[[1 4 6]\n",
            " [1 4 7]\n",
            " [1 5 6]\n",
            " ...\n",
            " [3 4 7]\n",
            " [3 5 6]\n",
            " [3 5 7]]\n"
          ]
        }
      ],
      "source": [
        "def cartesian(arrays):\n",
        "    arrays = [np.asarray(a) for a in arrays]\n",
        "    shape = (len(x) for x in arrays)\n",
        "\n",
        "    ix = np.indices(shape, dtype=int)\n",
        "    ix = ix.reshape(len(arrays), -1).T\n",
        "\n",
        "    for n, arr in enumerate(arrays):\n",
        "        ix[:, n] = arrays[n][ix[:, n]]\n",
        "\n",
        "    return ix\n",
        "\n",
        "print (cartesian(([1, 2, 3], [4, 5], [6, 7])))"
      ]
    },
    {
      "cell_type": "markdown",
      "metadata": {
        "id": "6oQU6T2GMc2M"
      },
      "source": [
        "#### 91. How to create a record array from a regular array? (★★★) \n",
        "(**hint**: np.core.records.fromarrays)"
      ]
    },
    {
      "cell_type": "code",
      "execution_count": null,
      "metadata": {
        "id": "I8GQnwqZMc2M",
        "colab": {
          "base_uri": "https://localhost:8080/"
        },
        "outputId": "5514516d-55c2-4c97-b500-92d11011a213"
      },
      "outputs": [
        {
          "output_type": "execute_result",
          "data": {
            "text/plain": [
              "rec.array([(b'GOOD', 2.5, 3), (b'MORNING', 3.6, 2)],\n",
              "          dtype=[('col1', 'S8'), ('col2', '<f8'), ('col3', '<i8')])"
            ]
          },
          "metadata": {},
          "execution_count": 11
        }
      ],
      "source": [
        "Z = np.array([(\"GOOD\", 2.5, 3),\n",
        "              (\"MORNING\", 3.6, 2)])\n",
        "R = np.core.records.fromarrays(Z.T,\n",
        "                               names='col1, col2, col3',\n",
        "                               formats = 'S8, f8, i8')\n",
        "R"
      ]
    },
    {
      "cell_type": "markdown",
      "metadata": {
        "id": "ui81iCn5Mc2M"
      },
      "source": [
        "#### 92. Consider a large vector Z, compute Z to the power of 3 using 3 different methods (★★★) \n",
        "(**hint**: np.power, \\*, np.einsum)"
      ]
    },
    {
      "cell_type": "code",
      "source": [
        "x = np.random.rand(int(5e7))\n",
        "%timeit np.power(x,3)\n",
        "%timeit x*x*x\n",
        "%timeit np.einsum('i,i,i->i',x,x,x)"
      ],
      "metadata": {
        "id": "mN3Cp5nr_riR",
        "colab": {
          "base_uri": "https://localhost:8080/"
        },
        "outputId": "5053c84a-d980-4d2d-8afb-a12a397de1b9"
      },
      "execution_count": null,
      "outputs": [
        {
          "output_type": "stream",
          "name": "stdout",
          "text": [
            "2.13 s ± 6.49 ms per loop (mean ± std. dev. of 7 runs, 1 loop each)\n",
            "66.1 ms ± 1.21 ms per loop (mean ± std. dev. of 7 runs, 10 loops each)\n",
            "56.3 ms ± 1 ms per loop (mean ± std. dev. of 7 runs, 10 loops each)\n"
          ]
        }
      ]
    },
    {
      "cell_type": "markdown",
      "metadata": {
        "id": "oSOZ8sRDMc2M"
      },
      "source": [
        "#### 93. Consider two arrays A and B of shape (8,3) and (2,2). How to find rows of A that contain elements of each row of B regardless of the order of the elements in B? (★★★) \n",
        "(**hint**: np.where)"
      ]
    },
    {
      "cell_type": "code",
      "execution_count": null,
      "metadata": {
        "id": "iqb6CAumMc2M",
        "colab": {
          "base_uri": "https://localhost:8080/"
        },
        "outputId": "4e4728f4-1cd3-41d2-e2f2-f855ea842a9b"
      },
      "outputs": [
        {
          "output_type": "stream",
          "name": "stdout",
          "text": [
            "[2 3 4 5 6 7]\n"
          ]
        }
      ],
      "source": [
        "A = np.random.randint(0,5,(8,3))\n",
        "B = np.random.randint(0,5,(2,2))\n",
        "\n",
        "C = (A[..., np.newaxis, np.newaxis] == B)\n",
        "rows = (C.sum(axis=(1,2,3)) >= B.shape[1]).nonzero()[0]\n",
        "print(rows)"
      ]
    },
    {
      "cell_type": "markdown",
      "metadata": {
        "id": "irOiOnFiMc2M"
      },
      "source": [
        "#### 94. Considering a 10x3 matrix, extract rows with unequal values (e.g. \\[2,2,3\\]) (★★★)"
      ]
    },
    {
      "cell_type": "code",
      "execution_count": null,
      "metadata": {
        "id": "wntCe-dhMc2M",
        "colab": {
          "base_uri": "https://localhost:8080/"
        },
        "outputId": "3e74cb1e-982b-4364-a82b-f6731b21494e"
      },
      "outputs": [
        {
          "output_type": "stream",
          "name": "stdout",
          "text": [
            "[[0 1 4]\n",
            " [4 0 4]\n",
            " [3 3 0]\n",
            " [4 4 3]\n",
            " [3 2 4]\n",
            " [0 4 0]\n",
            " [4 2 2]\n",
            " [3 3 3]\n",
            " [1 4 0]\n",
            " [0 4 2]]\n",
            "[[0 1 4]\n",
            " [4 0 4]\n",
            " [3 3 0]\n",
            " [4 4 3]\n",
            " [3 2 4]\n",
            " [0 4 0]\n",
            " [4 2 2]\n",
            " [1 4 0]\n",
            " [0 4 2]]\n"
          ]
        }
      ],
      "source": [
        "Z = np.random.randint(0,5,(10,3))\n",
        "E = np.logical_and.reduce(Z[:,1:] == Z[:,:-1], axis=1)\n",
        "U = Z[~E]\n",
        "print(Z)\n",
        "print(U)"
      ]
    },
    {
      "cell_type": "markdown",
      "metadata": {
        "id": "lvS-G7FkMc2N"
      },
      "source": [
        "#### 95. Convert a vector of ints into a matrix binary representation (★★★) \n",
        "(**hint**: np.unpackbits)"
      ]
    },
    {
      "cell_type": "code",
      "execution_count": null,
      "metadata": {
        "id": "sTME89YtMc2N",
        "colab": {
          "base_uri": "https://localhost:8080/"
        },
        "outputId": "59e15bde-28c9-469e-d59a-26b5a64d83ef"
      },
      "outputs": [
        {
          "output_type": "stream",
          "name": "stdout",
          "text": [
            "[[0 0 0 0 0 0 0 0]\n",
            " [0 0 0 0 0 0 0 1]\n",
            " [0 0 0 0 0 0 1 0]\n",
            " [0 0 0 0 0 0 1 1]\n",
            " [0 0 0 0 1 1 1 1]\n",
            " [0 0 0 1 0 0 0 0]\n",
            " [0 0 1 0 0 0 0 0]\n",
            " [0 1 0 0 0 0 0 0]\n",
            " [1 0 0 0 0 0 0 0]]\n",
            "[[0 0 0 0 0 0 0 0]\n",
            " [0 0 0 0 0 0 0 1]\n",
            " [0 0 0 0 0 0 1 0]\n",
            " [0 0 0 0 0 0 1 1]\n",
            " [0 0 0 0 1 1 1 1]\n",
            " [0 0 0 1 0 0 0 0]\n",
            " [0 0 1 0 0 0 0 0]\n",
            " [0 1 0 0 0 0 0 0]\n",
            " [1 0 0 0 0 0 0 0]]\n"
          ]
        }
      ],
      "source": [
        "i = np.array([0, 1, 2, 3, 15, 16, 32, 64, 128])\n",
        "b= ((i.reshape(-1,1) & (2**np.arange(8))) != 0).astype(int)\n",
        "print(b[:,::-1])\n",
        "\n",
        "\n",
        "\n",
        "i= np.array([0, 1, 2, 3, 15, 16, 32, 64, 128], dtype=np.uint8)\n",
        "print(np.unpackbits(i[:, np.newaxis], axis=1))"
      ]
    },
    {
      "cell_type": "markdown",
      "metadata": {
        "id": "l2BZLF8BMc2N"
      },
      "source": [
        "#### 96. Given a two dimensional array, how to extract unique rows? (★★★) \n",
        "(**hint**: np.ascontiguousarray)"
      ]
    },
    {
      "cell_type": "code",
      "execution_count": null,
      "metadata": {
        "id": "k3-BeVLFMc2N",
        "colab": {
          "base_uri": "https://localhost:8080/"
        },
        "outputId": "80cc5126-25fd-4815-b36e-312ac66a089a"
      },
      "outputs": [
        {
          "output_type": "stream",
          "name": "stdout",
          "text": [
            "[[0 1 0]\n",
            " [0 1 1]\n",
            " [1 0 0]\n",
            " [1 0 1]\n",
            " [1 1 0]\n",
            " [1 1 1]]\n"
          ]
        }
      ],
      "source": [
        "Z = np.random.randint(0,2,(6,3))\n",
        "T = np.ascontiguousarray(Z).view(np.dtype((np.void, Z.dtype.itemsize * Z.shape[1])))\n",
        "_, idx = np.unique(T, return_index=True)\n",
        "uZ = Z[idx]\n",
        "print(uZ)"
      ]
    },
    {
      "cell_type": "markdown",
      "metadata": {
        "id": "sRm0rsH4Mc2N"
      },
      "source": [
        "#### 97. Considering 2 vectors A & B, write the einsum equivalent of inner, outer, sum, and mul function (★★★) \n",
        "(**hint**: np.einsum)"
      ]
    },
    {
      "cell_type": "code",
      "execution_count": null,
      "metadata": {
        "id": "iM2fTZWfMc2N",
        "colab": {
          "base_uri": "https://localhost:8080/"
        },
        "outputId": "c719db31-218b-445d-be95-4160bb430ea3"
      },
      "outputs": [
        {
          "output_type": "stream",
          "name": "stdout",
          "text": [
            "[0 1 2]\n"
          ]
        }
      ],
      "source": [
        "A= np.arange(3)\n",
        "B =  np.arange(12).reshape(3,4)\n",
        "print (A)"
      ]
    },
    {
      "cell_type": "markdown",
      "metadata": {
        "id": "xmSWyy8gMc2N"
      },
      "source": [
        "#### 98. Considering a path described by two vectors (X,Y), how to sample it using equidistant samples (★★★)? \n",
        "(**hint**: np.cumsum, np.interp)"
      ]
    },
    {
      "cell_type": "code",
      "execution_count": null,
      "metadata": {
        "id": "DGoqLx1CMc2N",
        "colab": {
          "base_uri": "https://localhost:8080/"
        },
        "outputId": "368f0c09-166e-45be-cf71-af247b24f5f7"
      },
      "outputs": [
        {
          "output_type": "execute_result",
          "data": {
            "text/plain": [
              "array([ 0.00000000e+00,  1.74026724e+00,  9.81816584e-01, -1.34251287e+00,\n",
              "       -3.53191891e+00, -4.70449474e+00, -4.59573427e+00, -3.33831870e+00,\n",
              "       -1.28956083e+00,  1.14234685e+00,  3.55645601e+00,  5.62188218e+00,\n",
              "        7.09389488e+00,  7.82951803e+00,  7.78700678e+00,  6.99685666e+00,\n",
              "        5.55535240e+00,  3.60417006e+00,  1.30506373e+00, -1.15819722e+00,\n",
              "       -3.61328132e+00, -5.89130465e+00, -7.87065053e+00, -9.41689057e+00,\n",
              "       -1.04714836e+01, -1.09903787e+01, -1.09354306e+01, -1.03330912e+01,\n",
              "       -9.22690166e+00, -7.67489830e+00, -5.75257980e+00, -3.54832201e+00,\n",
              "       -1.15854355e+00,  1.31709956e+00,  3.78023622e+00,  6.13780326e+00,\n",
              "        8.30540149e+00,  1.02098724e+01,  1.17910419e+01,  1.29972950e+01,\n",
              "        1.37774249e+01,  1.41319792e+01,  1.40585758e+01,  1.35636816e+01,\n",
              "        1.26345244e+01,  1.13409083e+01,  9.72216360e+00,  7.79464305e+00,\n",
              "        5.64544223e+00,  3.32503222e+00,  8.88107041e-01, -1.59329248e+00,\n",
              "       -4.05992507e+00, -6.45313746e+00, -8.71327144e+00, -1.07900854e+01,\n",
              "       -1.26380653e+01, -1.42147006e+01, -1.54892299e+01, -1.64390858e+01,\n",
              "       -1.70351433e+01, -1.72938948e+01, -1.71685631e+01, -1.67219979e+01,\n",
              "       -1.59044166e+01, -1.47824153e+01, -1.33665280e+01, -1.16678134e+01,\n",
              "       -9.75246391e+00, -7.63091465e+00, -5.35345831e+00, -2.96905840e+00,\n",
              "       -5.09631905e-01,  1.97507060e+00,  4.44430515e+00,  6.85344809e+00,\n",
              "        9.15903461e+00,  1.13337844e+01,  1.33467125e+01,  1.51336120e+01,\n",
              "        1.66966787e+01,  1.80162922e+01,  1.90746708e+01,  1.98127969e+01,\n",
              "        2.02634499e+01,  2.04221761e+01,  2.02877631e+01,  1.98449702e+01,\n",
              "        1.90974465e+01,  1.80799531e+01,  1.68069397e+01,  1.52959771e+01,\n",
              "        1.35665801e+01,  1.16227312e+01,  9.51601869e+00,  7.27388893e+00,\n",
              "        4.92519240e+00,  2.49981337e+00,  2.82932820e-02, -2.45817963e+00,\n",
              "       -4.92460367e+00, -7.34030894e+00, -9.67635928e+00, -1.19050601e+01,\n",
              "       -1.40002645e+01, -1.59376556e+01, -1.76950019e+01, -1.92523833e+01,\n",
              "       -2.05923861e+01, -2.16995543e+01, -2.25478860e+01, -2.31432552e+01,\n",
              "       -2.34800725e+01, -2.35556687e+01, -2.33702741e+01, -2.29269662e+01,\n",
              "       -2.22315865e+01, -2.12926288e+01, -2.01211000e+01, -1.87303570e+01,\n",
              "       -1.71359212e+01, -1.53552740e+01, -1.34076356e+01, -1.13137308e+01,\n",
              "       -9.09554383e+00, -6.77606668e+00, -4.37904252e+00, -1.92870828e+00,\n",
              "        5.50461201e-01,  3.03400451e+00,  5.49771780e+00,  7.91788934e+00,\n",
              "        1.02715222e+01,  1.25365431e+01,  1.46919953e+01,  1.67182148e+01,\n",
              "        1.85969872e+01,  2.03116866e+01,  2.18473923e+01,  2.31909872e+01,\n",
              "        2.43312337e+01,  2.52588296e+01,  2.59664444e+01,  2.64391214e+01,\n",
              "        2.66748505e+01,  2.66796333e+01,  2.64545680e+01,  2.60026765e+01,\n",
              "        2.53288265e+01,  2.44396400e+01,  2.33433894e+01,  2.20498837e+01,\n",
              "        2.05703459e+01,  1.89172843e+01,  1.71043584e+01,  1.51396391e+01,\n",
              "        1.30387952e+01,  1.08294252e+01,  8.52903617e+00,  6.15551380e+00,\n",
              "        3.72697869e+00,  1.26164946e+00, -1.22228693e+00, -3.70679651e+00,\n",
              "       -6.17014862e+00, -8.59028675e+00, -1.09516293e+01, -1.32379536e+01,\n",
              "       -1.54338179e+01, -1.75246263e+01, -1.94966815e+01, -2.13317519e+01,\n",
              "       -2.29952001e+01, -2.44987532e+01, -2.58335652e+01, -2.69919481e+01,\n",
              "       -2.79673583e+01, -2.87543764e+01, -2.93186910e+01, -2.96679958e+01,\n",
              "       -2.98181354e+01, -2.97693731e+01, -2.95229769e+01, -2.90811595e+01,\n",
              "       -2.84133854e+01, -2.75430665e+01, -2.64934034e+01, -2.52713717e+01,\n",
              "       -2.38845608e+01, -2.23353782e+01, -2.06051319e+01, -1.87442619e+01,\n",
              "       -1.67635423e+01, -1.46739620e+01, -1.24866789e+01, -1.01933401e+01,\n",
              "       -7.83474328e+00, -5.42495146e+00, -2.97607515e+00, -5.00072086e-01])"
            ]
          },
          "metadata": {},
          "execution_count": 4
        }
      ],
      "source": [
        "ph = np.arange(0, 10*np.pi, 0.1)\n",
        "a = 1\n",
        "x = a*ph*np.cos(ph)\n",
        "y = a*ph*np.sin(ph)\n",
        "\n",
        "dr = (np.diff(x)**2 + np.diff(y)**2)**.5 \n",
        "r = np.zeros_like(x)\n",
        "r[1:] = np.cumsum(dr)                \n",
        "r_int = np.linspace(0, r.max(), 200) \n",
        "x_int = np.interp(r_int, r, x)      \n",
        "y_int = np.interp(r_int, r, y)\n",
        "x_int\n",
        "y_int"
      ]
    },
    {
      "cell_type": "markdown",
      "metadata": {
        "id": "nx9k0iYgMc2N"
      },
      "source": [
        "#### 99. Given an integer n and a 2D array X, select from X the rows which can be interpreted as draws from a multinomial distribution with n degrees, i.e., the rows which only contain integers and which sum to n. (★★★) \n",
        "(**hint**: np.logical\\_and.reduce, np.mod)"
      ]
    },
    {
      "cell_type": "code",
      "execution_count": null,
      "metadata": {
        "id": "PNtjcvHVMc2N",
        "colab": {
          "base_uri": "https://localhost:8080/"
        },
        "outputId": "962edb74-d1d0-480b-de12-42b1781bb5c5"
      },
      "outputs": [
        {
          "output_type": "stream",
          "name": "stdout",
          "text": [
            "[[2. 0. 1. 1.]]\n"
          ]
        }
      ],
      "source": [
        "X = np.asarray([[1.0, 0.0, 3.0, 8.0],\n",
        "                [2.0, 0.0, 1.0, 1.0],\n",
        "                [1.5, 2.5, 1.0, 0.0]])\n",
        "n = 4\n",
        "M = np.logical_and.reduce(np.mod(X, 1) == 0, axis=-1)\n",
        "M &= (X.sum(axis=-1) == n)\n",
        "print(X[M])"
      ]
    },
    {
      "cell_type": "markdown",
      "metadata": {
        "id": "EfYvIb6SMc2N"
      },
      "source": [
        "#### 100. Compute bootstrapped 95% confidence intervals for the mean of a 1D array X (i.e., resample the elements of an array with replacement N times, compute the mean of each sample, and then compute percentiles over the means). (★★★) \n",
        "(**hint**: np.percentile)"
      ]
    },
    {
      "cell_type": "code",
      "execution_count": null,
      "metadata": {
        "id": "QdW71saLMc2O",
        "colab": {
          "base_uri": "https://localhost:8080/"
        },
        "outputId": "11475560-5aab-4675-9557-83425cae0bc6"
      },
      "outputs": [
        {
          "output_type": "stream",
          "name": "stdout",
          "text": [
            "[[[[   1.96355836  -10.16273819    3.7013543     2.74742612\n",
            "       3.01867525]\n",
            "   [ -40.50243599    2.23790941    1.65161803    1.64889964\n",
            "       1.80920093]\n",
            "   [   2.59884146   -3.47818307    2.41095734   -3.03689686\n",
            "     -54.5038786 ]\n",
            "   [   1.97216555    3.88600169    8.73625124    8.49588434\n",
            "       3.23139477]\n",
            "   [   3.75954982    2.03101317    3.2560234    -3.66163461\n",
            "       1.74590399]]\n",
            "\n",
            "  [[   3.12540518   -3.47560547   12.36852182    5.72553868\n",
            "       7.04472576]\n",
            "   [  -4.67266033    3.88312362    2.40300339    2.39725328\n",
            "       2.75171877]\n",
            "   [   5.11598272   -2.09719489    4.43553352   -1.92825181\n",
            "      -4.81537159]\n",
            "   [   3.14726841   14.70308613  -13.35908917  -13.96317985\n",
            "       8.32342038]\n",
            "   [  13.04319725    3.29984951    8.48881121   -2.16252197\n",
            "       2.60791415]]\n",
            "\n",
            "  [[-277.71164931   -1.63591414   -4.12016091   -6.7157671\n",
            "      -5.50632882]\n",
            "   [  -1.86022209  -15.14354523   10.80070789   10.68550713\n",
            "      25.09419226]\n",
            "   [  -7.80679708   -1.24939595  -10.19291617   -1.1874174\n",
            "      -1.88243208]\n",
            "   [-171.71734202   -3.91318306   -2.50994708   -2.53051615\n",
            "      -4.91602312]\n",
            "   [  -4.05036952  -48.74422672   -4.86009612   -1.27229309\n",
            "      16.69760369]]\n",
            "\n",
            "  [[   1.16182191    3.95196087    1.60872832    1.39779078\n",
            "       1.46475343]\n",
            "   [   3.06046487    1.25268822    1.04503637    1.0439474\n",
            "       1.10598937]\n",
            "   [   1.35828141   15.64181765    1.30512418   45.13831281\n",
            "       3.00218888]\n",
            "   [   1.1648299     1.64265238    2.14636864    2.13155228\n",
            "       1.51308475]\n",
            "   [   1.61962489    1.18511114    1.51846287   12.76559654\n",
            "       1.08200892]]\n",
            "\n",
            "  [[ -12.3366961    -1.45193272   -3.12336911   -4.41771355\n",
            "      -3.86000044]\n",
            "   [  -1.62594133   -6.96898797   66.10083729   62.00943049\n",
            "     -26.58990018]\n",
            "   [  -4.86495783   -1.1391534    -5.69588076   -1.08740335\n",
            "      -1.64288377]\n",
            "   [ -12.00744756   -3.00296186   -2.10140146   -2.1158002\n",
            "      -3.56030797]\n",
            "   [  -3.08309708  -10.20685491   -3.53088182   -1.15815734\n",
            "     -56.91749792]]]\n",
            "\n",
            "\n",
            " [[[   4.02350789   -2.78443856  106.03069681    9.68646079\n",
            "      14.17816416]\n",
            "   [  -3.50348569    5.3732974     2.90084851    2.89247318\n",
            "       3.42477416]\n",
            "   [   8.0614805    -1.82399678    6.49212174   -1.69484734\n",
            "      -3.58310607]\n",
            "   [   4.05981447 -293.57868071   -6.836458     -6.99124213\n",
            "      20.52387499]\n",
            "   [ 190.50723945    4.31732422   21.55964593   -1.87321265\n",
            "       3.20483   ]]\n",
            "\n",
            "  [[   3.09292504   -3.51667357   11.87501399    5.61747015\n",
            "       6.88182987]\n",
            "   [  -4.74719239    3.83311155    2.3837566     2.37809812\n",
            "       2.72650991]\n",
            "   [   5.0295261    -2.1120779     4.37039932   -1.94082636\n",
            "      -4.89456444]\n",
            "   [   3.11433466   14.01090948  -13.98691761  -14.65053291\n",
            "       8.09697333]\n",
            "   [  12.49557338    3.26366343    8.25340277   -2.17835013\n",
            "       2.58526042]]\n",
            "\n",
            "  [[ -14.09950537   -1.47361643   -3.22546742   -4.62477075\n",
            "      -4.01714805]\n",
            "   [  -1.65318266   -7.49859297   39.58372584   38.07915736\n",
            "     -36.39836893]\n",
            "   [  -5.11725888   -1.15245825   -6.04481747   -1.09952039\n",
            "      -1.67070062]\n",
            "   [ -13.67107445   -3.09722125   -2.14712813   -2.16216257\n",
            "      -3.69357957]\n",
            "   [  -3.18253759  -11.38448204   -3.66191898   -1.17191249\n",
            "    -134.50290699]]\n",
            "\n",
            "  [[  41.66855504   -1.71326973   -4.64880168   -8.24378197\n",
            "      -6.49310866]\n",
            "   [  -1.96089793  -26.01797562    8.32041633    8.25188234\n",
            "      14.82587873]\n",
            "   [  -9.95086905   -1.29401761  -14.18287205   -1.22765052\n",
            "      -1.98559295]\n",
            "   [  45.92159745   -4.38699103   -2.6967625    -2.72052192\n",
            "      -5.68774228]\n",
            "   [  -4.56014475  141.15283298   -5.61301166   -1.31859557\n",
            "      11.43006026]]\n",
            "\n",
            "  [[   6.54401313   -2.19844608  -11.5879312   133.17407197\n",
            "     -39.68739243]\n",
            "   [  -2.62358437   11.06469457    4.01608344    4.00004819\n",
            "       5.09522609]\n",
            "   [  35.31225373   -1.55285654   17.15120658   -1.45825408\n",
            "      -2.66798017]\n",
            "   [   6.64060174  -10.08734086   -4.13218891   -4.1882359\n",
            "     -21.27470846]\n",
            "   [ -11.05231678    7.3585122   -20.26549382   -1.58838539\n",
            "       4.62318458]]]\n",
            "\n",
            "\n",
            " [[[  20.04570923   -1.79278239   -5.28479433  -10.48037066\n",
            "      -7.80503885]\n",
            "   [  -2.06575985  -79.69467045    6.84587484    6.79941173\n",
            "      10.71389893]\n",
            "   [ -13.40362908   -1.33886744  -22.4112206    -1.2679462\n",
            "      -2.09318517]\n",
            "   [  20.98049353   -4.94903495   -2.89915635   -2.92663409\n",
            "      -6.66979653]\n",
            "   [  -5.17051828   30.32913664   -6.56726444   -1.36519596\n",
            "       8.82023393]]\n",
            "\n",
            "  [[ 128.8731852    -1.6668928    -4.32248236   -7.27045921\n",
            "      -5.87375715]\n",
            "   [  -1.90038271  -18.29012501    9.62029213    9.52878943\n",
            "      19.52732874]\n",
            "   [  -8.56655189   -1.26738479  -11.52778584   -1.20365418\n",
            "      -1.92356802]\n",
            "   [ 180.60648634   -4.09523859   -2.58361648   -2.60541595\n",
            "      -5.2068138 ]\n",
            "   [  -4.24573227 -109.23199645   -5.14411696   -1.29095224\n",
            "      14.0352342 ]]\n",
            "\n",
            "  [[   2.02701858   -8.74563325    3.93348817    2.87329133\n",
            "       3.17131063]\n",
            "   [ -24.60994879    2.32071592    1.69628732    1.69342002\n",
            "       1.86293943]\n",
            "   [   2.71118253   -3.29543005    2.50734089   -2.89663985\n",
            "     -29.16181505]\n",
            "   [   2.03619241    4.14267699   10.15007162    9.82704882\n",
            "       3.40692529]\n",
            "   [   3.99927704    2.09898389    3.4343136    -3.45965488\n",
            "       1.79589612]]\n",
            "\n",
            "  [[   1.99045134   -9.49852077    3.79808604    2.80036618\n",
            "       3.08270652]\n",
            "   [ -31.67489286    2.27290942    1.67060373    1.66782253\n",
            "       1.83200737]\n",
            "   [   2.6461609    -3.39688562    2.45162861   -2.9747353\n",
            "     -39.63819643]\n",
            "   [   1.99929644    3.99276456    9.29500203    9.02338322\n",
            "       3.30487813]\n",
            "   [   3.85938827    2.05979916    3.33064409   -3.57164612\n",
            "       1.76713317]]\n",
            "\n",
            "  [[   1.34449832    7.34787983    1.98151745    1.67092924\n",
            "       1.767523  ]\n",
            "   [   4.7663878     1.46770039    1.19053398    1.18912087\n",
            "       1.27028879]\n",
            "   [   1.61478054  -18.86291547    1.54020231  -10.5495098\n",
            "       4.62652303]\n",
            "   [   1.34852822    2.0332383     2.86567496    2.83932482\n",
            "       1.83838315]\n",
            "   [   1.99807525    1.37578557    1.8463284   -25.90021696\n",
            "       1.23875591]]]\n",
            "\n",
            "\n",
            " [[[   1.42915833   10.86550609    2.17106033    1.80371902\n",
            "       1.91679503]\n",
            "   [   6.03343097    1.56917227    1.25643938    1.25486559\n",
            "       1.34559936]\n",
            "   [   1.73846562  -10.3014849     1.65232983   -7.20199353\n",
            "       5.81105712]\n",
            "   [   1.43371258    2.2333046     3.27977871    3.24530869\n",
            "       2.00041233]\n",
            "   [   2.19095323    1.46456168    2.00982342  -12.09642909\n",
            "       1.31026871]]\n",
            "\n",
            "  [[  39.78749437   -1.71660664   -4.67345223   -8.32161825\n",
            "      -6.5412995 ]\n",
            "   [  -1.96527038  -26.80939802    8.24260243    8.17533914\n",
            "      14.58060904]\n",
            "   [ -10.06450115   -1.29592029  -14.41483663   -1.22936291\n",
            "      -1.99007635]\n",
            "   [  43.64742504   -4.40893668   -2.70503933   -2.72894546\n",
            "      -5.72468589]\n",
            "   [  -4.58386165  121.66734051   -5.64898778   -1.32057127\n",
            "      11.28372506]]\n",
            "\n",
            "  [[   3.19406916   -3.39445723   13.51860137    5.96026413\n",
            "       7.40346375]\n",
            "   [  -4.52715857    3.98968457    2.44338887    2.4374441\n",
            "       2.80480539]\n",
            "   [   5.30257524   -2.06737295    4.57511447   -1.90301214\n",
            "      -4.66099317]\n",
            "   [   3.21690711   16.35732874  -12.23486161  -12.73963566\n",
            "       8.82887913]\n",
            "   [  14.32868752    3.37648633    9.01519219   -2.13082724\n",
            "       2.65554912]]\n",
            "\n",
            "  [[   3.91273123   -2.84008435   60.72441855    9.06836268\n",
            "      12.89198034]\n",
            "   [  -3.592039      5.17753584    2.84282047    2.8347764\n",
            "       3.34418337]\n",
            "   [   7.62873671   -1.84771171    6.20850173   -1.71530402\n",
            "      -3.67578329]\n",
            "   [   3.94705759  275.45425112   -7.18194911   -7.35296875\n",
            "      17.93388988]\n",
            "   [  81.39509131    4.19003384   18.71973495   -1.89823338\n",
            "       3.13415133]]\n",
            "\n",
            "  [[   3.28809212   -3.29434546   15.37997247    6.29622721\n",
            "       7.92899525]\n",
            "   [  -4.35082189    4.13746557    2.49803209    2.49181879\n",
            "       2.87704835]\n",
            "   [   5.56684126   -2.02980489    4.77050897   -1.87113406\n",
            "      -4.47429142]\n",
            "   [   3.3122995    19.16364147  -11.02703783  -11.43540554\n",
            "       9.58661246]\n",
            "   [  16.43722073    3.48173244    9.80667685   -2.09093987\n",
            "       2.72021928]]]\n",
            "\n",
            "\n",
            " [[[   1.24293511    5.07951832    1.768537      1.51688727\n",
            "       1.59607014]\n",
            "   [   3.69579381    1.34750305    1.11020493    1.10897598\n",
            "       1.17924814]\n",
            "   [   1.47047021  128.84427733    1.4083699   -29.39814384\n",
            "       3.61114576]\n",
            "   [   1.24637839    1.80962183    2.44061191    2.42147291\n",
            "       1.65362609]\n",
            "   [   1.78171487    1.26962711    1.66005181   45.11481845\n",
            "       1.15202473]]\n",
            "\n",
            "  [[   2.05646399   -8.23678552    4.04590527    2.93281688\n",
            "       3.24398075]\n",
            "   [ -20.96533626    2.35939367    1.71685915    1.71392194\n",
            "       1.88778158]\n",
            "   [   2.76411892   -3.2204632     2.55255005   -2.83855923\n",
            "     -24.18074119]\n",
            "   [   2.06590691    4.26755887   10.93402063   10.56009215\n",
            "       3.49093771]\n",
            "   [   4.11554158    2.13057352    3.51969914   -3.3771236\n",
            "       1.81897134]]\n",
            "\n",
            "  [[ 132.57561182   -1.66629091   -4.31843734   -7.25902252\n",
            "      -5.86629026]\n",
            "   [  -1.89960043  -18.21791862    9.64038968    9.54850609\n",
            "      19.61031145]\n",
            "   [  -8.5506786    -1.2670368   -11.49906028   -1.2033403\n",
            "      -1.92276653]\n",
            "   [ 187.96289287   -4.09160753   -2.58217079   -2.60394578\n",
            "      -5.20094547]\n",
            "   [  -4.24182957 -106.70619185   -5.13838903   -1.29059119\n",
            "      14.07805181]]\n",
            "\n",
            "  [[   2.00685208   -9.14199292    3.85825216    2.83293849\n",
            "       3.12222434]\n",
            "   [ -28.02962799    2.29432021    1.68214178    1.67932207\n",
            "       1.84589186]\n",
            "   [   2.6752261    -3.35016127    2.47655731   -2.93884136\n",
            "     -34.09015755]\n",
            "   [   2.01584388    4.05931066    9.66380486    9.37054413\n",
            "       3.35033932]\n",
            "   [   3.92152815    2.07736767    3.37682186   -3.52002695\n",
            "       1.78004827]]\n",
            "\n",
            "  [[ -10.17899346   -1.4165917    -2.96428349   -4.10603422\n",
            "      -3.61991096]\n",
            "   [  -1.58175064   -6.22372737 -486.81714219 -946.98632163\n",
            "     -18.25123082]\n",
            "   [  -4.48965652   -1.11728415   -5.18812036   -1.06745855\n",
            "      -1.59778011]\n",
            "   [  -9.95379379   -2.85561613   -2.02816941   -2.04157888\n",
            "      -3.35506139]\n",
            "   [  -2.92798557   -8.68387733   -3.32891774   -1.13555958\n",
            "     -28.77544622]]]]\n"
          ]
        }
      ],
      "source": [
        "X = np.random.randn(100) # random 1D array\n",
        "N = 1000 # number of bootstrap samples\n",
        "idx = np.random.randint(0, X.size, (N, X.size))\n",
        "means = X[idx].mean(axis=1)\n",
        "C = np.percentile(means, [2.5, 97.5])\n",
        "print(c)"
      ]
    }
  ],
  "metadata": {
    "kernelspec": {
      "display_name": "Python 3",
      "language": "python",
      "name": "python3"
    },
    "language_info": {
      "codemirror_mode": {
        "name": "ipython",
        "version": 3
      },
      "file_extension": ".py",
      "mimetype": "text/x-python",
      "name": "python",
      "nbconvert_exporter": "python",
      "pygments_lexer": "ipython3",
      "version": "3.8.3"
    },
    "colab": {
      "provenance": [],
      "collapsed_sections": [],
      "include_colab_link": true
    }
  },
  "nbformat": 4,
  "nbformat_minor": 0
}